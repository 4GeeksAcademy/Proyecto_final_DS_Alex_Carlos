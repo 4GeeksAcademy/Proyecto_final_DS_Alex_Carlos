{
 "cells": [
  {
   "cell_type": "code",
   "execution_count": 89,
   "id": "2989f5db",
   "metadata": {},
   "outputs": [],
   "source": [
    "import pandas as pd\n",
    "import numpy as np\n",
    "import matplotlib.pyplot as plt\n",
    "import seaborn as sns"
   ]
  },
  {
   "cell_type": "code",
   "execution_count": 90,
   "id": "73870e59",
   "metadata": {},
   "outputs": [
    {
     "data": {
      "text/html": [
       "<div>\n",
       "<style scoped>\n",
       "    .dataframe tbody tr th:only-of-type {\n",
       "        vertical-align: middle;\n",
       "    }\n",
       "\n",
       "    .dataframe tbody tr th {\n",
       "        vertical-align: top;\n",
       "    }\n",
       "\n",
       "    .dataframe thead th {\n",
       "        text-align: right;\n",
       "    }\n",
       "</style>\n",
       "<table border=\"1\" class=\"dataframe\">\n",
       "  <thead>\n",
       "    <tr style=\"text-align: right;\">\n",
       "      <th></th>\n",
       "      <th>ID_ACCIDENTE</th>\n",
       "      <th>ANYO</th>\n",
       "      <th>MES</th>\n",
       "      <th>DIA_SEMANA</th>\n",
       "      <th>HORA</th>\n",
       "      <th>COD_PROVINCIA</th>\n",
       "      <th>COD_MUNICIPIO</th>\n",
       "      <th>ISLA</th>\n",
       "      <th>ZONA</th>\n",
       "      <th>ZONA_AGRUPADA</th>\n",
       "      <th>...</th>\n",
       "      <th>PRIORI_OTRA</th>\n",
       "      <th>CONDICION_NIVEL_CIRCULA</th>\n",
       "      <th>CONDICION_FIRME</th>\n",
       "      <th>CONDICION_ILUMINACION</th>\n",
       "      <th>CONDICION_METEO</th>\n",
       "      <th>CONDICION_NIEBLA</th>\n",
       "      <th>CONDICION_VIENTO</th>\n",
       "      <th>VISIB_RESTRINGIDA_POR</th>\n",
       "      <th>ACERA</th>\n",
       "      <th>TRAZADO_PLANTA</th>\n",
       "    </tr>\n",
       "  </thead>\n",
       "  <tbody>\n",
       "    <tr>\n",
       "      <th>0</th>\n",
       "      <td>1</td>\n",
       "      <td>2022</td>\n",
       "      <td>1</td>\n",
       "      <td>6</td>\n",
       "      <td>3</td>\n",
       "      <td>1</td>\n",
       "      <td>0</td>\n",
       "      <td>NaN</td>\n",
       "      <td>1</td>\n",
       "      <td>1</td>\n",
       "      <td>...</td>\n",
       "      <td>999</td>\n",
       "      <td>1</td>\n",
       "      <td>1</td>\n",
       "      <td>6</td>\n",
       "      <td>1</td>\n",
       "      <td>NaN</td>\n",
       "      <td>NaN</td>\n",
       "      <td>1</td>\n",
       "      <td>998</td>\n",
       "      <td>3</td>\n",
       "    </tr>\n",
       "    <tr>\n",
       "      <th>1</th>\n",
       "      <td>2</td>\n",
       "      <td>2022</td>\n",
       "      <td>1</td>\n",
       "      <td>5</td>\n",
       "      <td>16</td>\n",
       "      <td>1</td>\n",
       "      <td>1059</td>\n",
       "      <td>NaN</td>\n",
       "      <td>1</td>\n",
       "      <td>1</td>\n",
       "      <td>...</td>\n",
       "      <td>999</td>\n",
       "      <td>1</td>\n",
       "      <td>3</td>\n",
       "      <td>1</td>\n",
       "      <td>3</td>\n",
       "      <td>NaN</td>\n",
       "      <td>NaN</td>\n",
       "      <td>1</td>\n",
       "      <td>998</td>\n",
       "      <td>2</td>\n",
       "    </tr>\n",
       "    <tr>\n",
       "      <th>2</th>\n",
       "      <td>3</td>\n",
       "      <td>2022</td>\n",
       "      <td>1</td>\n",
       "      <td>6</td>\n",
       "      <td>21</td>\n",
       "      <td>1</td>\n",
       "      <td>0</td>\n",
       "      <td>NaN</td>\n",
       "      <td>1</td>\n",
       "      <td>1</td>\n",
       "      <td>...</td>\n",
       "      <td>0</td>\n",
       "      <td>1</td>\n",
       "      <td>1</td>\n",
       "      <td>6</td>\n",
       "      <td>2</td>\n",
       "      <td>NaN</td>\n",
       "      <td>NaN</td>\n",
       "      <td>1</td>\n",
       "      <td>998</td>\n",
       "      <td>2</td>\n",
       "    </tr>\n",
       "    <tr>\n",
       "      <th>3</th>\n",
       "      <td>4</td>\n",
       "      <td>2022</td>\n",
       "      <td>1</td>\n",
       "      <td>7</td>\n",
       "      <td>12</td>\n",
       "      <td>1</td>\n",
       "      <td>0</td>\n",
       "      <td>NaN</td>\n",
       "      <td>1</td>\n",
       "      <td>1</td>\n",
       "      <td>...</td>\n",
       "      <td>999</td>\n",
       "      <td>1</td>\n",
       "      <td>3</td>\n",
       "      <td>1</td>\n",
       "      <td>3</td>\n",
       "      <td>NaN</td>\n",
       "      <td>NaN</td>\n",
       "      <td>1</td>\n",
       "      <td>998</td>\n",
       "      <td>1</td>\n",
       "    </tr>\n",
       "    <tr>\n",
       "      <th>4</th>\n",
       "      <td>5</td>\n",
       "      <td>2022</td>\n",
       "      <td>1</td>\n",
       "      <td>7</td>\n",
       "      <td>12</td>\n",
       "      <td>1</td>\n",
       "      <td>0</td>\n",
       "      <td>NaN</td>\n",
       "      <td>1</td>\n",
       "      <td>1</td>\n",
       "      <td>...</td>\n",
       "      <td>999</td>\n",
       "      <td>1</td>\n",
       "      <td>1</td>\n",
       "      <td>1</td>\n",
       "      <td>1</td>\n",
       "      <td>NaN</td>\n",
       "      <td>NaN</td>\n",
       "      <td>1</td>\n",
       "      <td>998</td>\n",
       "      <td>3</td>\n",
       "    </tr>\n",
       "  </tbody>\n",
       "</table>\n",
       "<p>5 rows × 73 columns</p>\n",
       "</div>"
      ],
      "text/plain": [
       "   ID_ACCIDENTE  ANYO  MES  DIA_SEMANA  HORA  COD_PROVINCIA  COD_MUNICIPIO  \\\n",
       "0             1  2022    1           6     3              1              0   \n",
       "1             2  2022    1           5    16              1           1059   \n",
       "2             3  2022    1           6    21              1              0   \n",
       "3             4  2022    1           7    12              1              0   \n",
       "4             5  2022    1           7    12              1              0   \n",
       "\n",
       "   ISLA  ZONA  ZONA_AGRUPADA  ... PRIORI_OTRA  CONDICION_NIVEL_CIRCULA  \\\n",
       "0   NaN     1              1  ...         999                        1   \n",
       "1   NaN     1              1  ...         999                        1   \n",
       "2   NaN     1              1  ...           0                        1   \n",
       "3   NaN     1              1  ...         999                        1   \n",
       "4   NaN     1              1  ...         999                        1   \n",
       "\n",
       "   CONDICION_FIRME  CONDICION_ILUMINACION  CONDICION_METEO  CONDICION_NIEBLA  \\\n",
       "0                1                      6                1               NaN   \n",
       "1                3                      1                3               NaN   \n",
       "2                1                      6                2               NaN   \n",
       "3                3                      1                3               NaN   \n",
       "4                1                      1                1               NaN   \n",
       "\n",
       "   CONDICION_VIENTO  VISIB_RESTRINGIDA_POR  ACERA  TRAZADO_PLANTA  \n",
       "0               NaN                      1    998               3  \n",
       "1               NaN                      1    998               2  \n",
       "2               NaN                      1    998               2  \n",
       "3               NaN                      1    998               1  \n",
       "4               NaN                      1    998               3  \n",
       "\n",
       "[5 rows x 73 columns]"
      ]
     },
     "execution_count": 90,
     "metadata": {},
     "output_type": "execute_result"
    }
   ],
   "source": [
    "df_raw = pd.read_excel(\"../data/TABLA_ACCIDENTES_22.xlsx\", sheet_name=0) #el excel tiene dos hojas pero solo queremos la primera\n",
    "\n",
    "df_raw.head()"
   ]
  },
  {
   "cell_type": "code",
   "execution_count": 91,
   "id": "cf61e02b",
   "metadata": {},
   "outputs": [],
   "source": [
    "#Esto es solo para no tener que cargar el dataframe cada vez que nos equivoquemos en algo, con ejecutar esta línea vale\n",
    "df = df_raw"
   ]
  },
  {
   "cell_type": "code",
   "execution_count": 92,
   "id": "b5b0cc49",
   "metadata": {},
   "outputs": [
    {
     "data": {
      "text/plain": [
       "(97916, 73)"
      ]
     },
     "execution_count": 92,
     "metadata": {},
     "output_type": "execute_result"
    }
   ],
   "source": [
    "df.shape"
   ]
  },
  {
   "cell_type": "markdown",
   "id": "f78f7ad2",
   "metadata": {},
   "source": [
    "El Dataframe del que se parte contiene 97916 filas (registros) y 17 columnas (datos distintos)"
   ]
  },
  {
   "cell_type": "code",
   "execution_count": 93,
   "id": "bb909120",
   "metadata": {},
   "outputs": [
    {
     "data": {
      "text/plain": [
       "0"
      ]
     },
     "execution_count": 93,
     "metadata": {},
     "output_type": "execute_result"
    }
   ],
   "source": [
    "df.duplicated().sum()"
   ]
  },
  {
   "cell_type": "markdown",
   "id": "4bcce5fb",
   "metadata": {},
   "source": [
    "No hay filas duplicadas en el Dataset"
   ]
  },
  {
   "cell_type": "code",
   "execution_count": 94,
   "id": "5c2c82e1",
   "metadata": {},
   "outputs": [
    {
     "data": {
      "text/plain": [
       "Index(['ID_ACCIDENTE', 'ANYO', 'MES', 'DIA_SEMANA', 'HORA', 'COD_PROVINCIA',\n",
       "       'COD_MUNICIPIO', 'ISLA', 'ZONA', 'ZONA_AGRUPADA', 'CARRETERA', 'KM',\n",
       "       'SENTIDO_1F', 'TITULARIDAD_VIA', 'TIPO_VIA', 'TIPO_ACCIDENTE',\n",
       "       'TOTAL_MU24H', 'TOTAL_HG24H', 'TOTAL_HL24H', 'TOTAL_VICTIMAS_24H',\n",
       "       'TOTAL_MU30DF', 'TOTAL_HG30DF', 'TOTAL_HL30DF', 'TOTAL_VICTIMAS_30DF',\n",
       "       'TOTAL_VEHICULOS', 'TOT_PEAT_MU24H', 'TOT_BICI_MU24H',\n",
       "       'TOT_CICLO_MU24H', 'TOT_MOTO_MU24H', 'TOT_TUR_MU24H', 'TOT_FURG_MU24H',\n",
       "       'TOT_CAM_MENOS3500_MU24H', 'TOT_CAM_MAS3500_MU24H', 'TOT_BUS_MU24H',\n",
       "       'TOT_OTRO_MU24H', 'TOT_SINESPECIF_MU24H', 'TOT_PEAT_MU30DF',\n",
       "       'TOT_BICI_MU30DF', 'TOT_CICLO_MU30DF', 'TOT_MOTO_MU30DF',\n",
       "       'TOT_TUR_MU30DF', 'TOT_FURG_MU30DF', 'TOT_CAM_MENOS3500_MU30DF',\n",
       "       'TOT_CAM_MAS3500_MU30DF', 'TOT_BUS_MU30DF', 'TOT_VMP_MU30DF',\n",
       "       'TOT_OTRO_MU30DF', 'TOT_SINESPECIF_MU30DF', 'NUDO', 'NUDO_INFO',\n",
       "       'CARRETERA_CRUCE', 'PRIORI_NORMA', 'PRIORI_AGENTE', 'PRIORI_SEMAFORO',\n",
       "       'PRIORI_VERT_STOP', 'PRIORI_VERT_CEDA', 'PRIORI_HORIZ_STOP',\n",
       "       'PRIORI_HORIZ_CEDA', 'PRIORI_MARCAS', 'PRIORI_PEA_NO_ELEV',\n",
       "       'PRIORI_PEA_ELEV', 'PRIORI_MARCA_CICLOS', 'PRIORI_CIRCUNSTANCIAL',\n",
       "       'PRIORI_OTRA', 'CONDICION_NIVEL_CIRCULA', 'CONDICION_FIRME',\n",
       "       'CONDICION_ILUMINACION', 'CONDICION_METEO', 'CONDICION_NIEBLA',\n",
       "       'CONDICION_VIENTO', 'VISIB_RESTRINGIDA_POR', 'ACERA', 'TRAZADO_PLANTA'],\n",
       "      dtype='object')"
      ]
     },
     "execution_count": 94,
     "metadata": {},
     "output_type": "execute_result"
    }
   ],
   "source": [
    "df.columns"
   ]
  },
  {
   "cell_type": "markdown",
   "id": "afbb206d",
   "metadata": {},
   "source": [
    "Hay hasta 31 columnas indicando la gravedad del accidente, por lo que lo primero que haremos será agruparlas todas en una donde tan solo se indique la gravedad como leve, grave o mortal.\n",
    "\n",
    "Lo primero para ello es entender nuestros datos, por ejemplo: \n",
    "    \n",
    "    ¿La columna que indica el número de fallecidos computados a 30 días integra los fallecidos computados a 24 horas o son independientes?\n",
    "    ¿La columna que indica el número de fallecidos computados a 30 días integra las victimas computadas a 24 horas o son independientes?"
   ]
  },
  {
   "cell_type": "code",
   "execution_count": 95,
   "id": "094bf404",
   "metadata": {},
   "outputs": [
    {
     "name": "stdout",
     "output_type": "stream",
     "text": [
      "Total de fallecidos registrados en el accidente computados a 24 horas mas que computados a 30 días Empty DataFrame\n",
      "Columns: [ID_ACCIDENTE, ANYO, MES, DIA_SEMANA, HORA, COD_PROVINCIA, COD_MUNICIPIO, ISLA, ZONA, ZONA_AGRUPADA, CARRETERA, KM, SENTIDO_1F, TITULARIDAD_VIA, TIPO_VIA, TIPO_ACCIDENTE, TOTAL_MU24H, TOTAL_HG24H, TOTAL_HL24H, TOTAL_VICTIMAS_24H, TOTAL_MU30DF, TOTAL_HG30DF, TOTAL_HL30DF, TOTAL_VICTIMAS_30DF, TOTAL_VEHICULOS, TOT_PEAT_MU24H, TOT_BICI_MU24H, TOT_CICLO_MU24H, TOT_MOTO_MU24H, TOT_TUR_MU24H, TOT_FURG_MU24H, TOT_CAM_MENOS3500_MU24H, TOT_CAM_MAS3500_MU24H, TOT_BUS_MU24H, TOT_OTRO_MU24H, TOT_SINESPECIF_MU24H, TOT_PEAT_MU30DF, TOT_BICI_MU30DF, TOT_CICLO_MU30DF, TOT_MOTO_MU30DF, TOT_TUR_MU30DF, TOT_FURG_MU30DF, TOT_CAM_MENOS3500_MU30DF, TOT_CAM_MAS3500_MU30DF, TOT_BUS_MU30DF, TOT_VMP_MU30DF, TOT_OTRO_MU30DF, TOT_SINESPECIF_MU30DF, NUDO, NUDO_INFO, CARRETERA_CRUCE, PRIORI_NORMA, PRIORI_AGENTE, PRIORI_SEMAFORO, PRIORI_VERT_STOP, PRIORI_VERT_CEDA, PRIORI_HORIZ_STOP, PRIORI_HORIZ_CEDA, PRIORI_MARCAS, PRIORI_PEA_NO_ELEV, PRIORI_PEA_ELEV, PRIORI_MARCA_CICLOS, PRIORI_CIRCUNSTANCIAL, PRIORI_OTRA, CONDICION_NIVEL_CIRCULA, CONDICION_FIRME, CONDICION_ILUMINACION, CONDICION_METEO, CONDICION_NIEBLA, CONDICION_VIENTO, VISIB_RESTRINGIDA_POR, ACERA, TRAZADO_PLANTA]\n",
      "Index: []\n",
      "\n",
      "[0 rows x 73 columns] \n",
      "\n",
      "Total de víctimas registrados en el accidente computados a 24 horas mas que computados a 30 días Empty DataFrame\n",
      "Columns: [ID_ACCIDENTE, ANYO, MES, DIA_SEMANA, HORA, COD_PROVINCIA, COD_MUNICIPIO, ISLA, ZONA, ZONA_AGRUPADA, CARRETERA, KM, SENTIDO_1F, TITULARIDAD_VIA, TIPO_VIA, TIPO_ACCIDENTE, TOTAL_MU24H, TOTAL_HG24H, TOTAL_HL24H, TOTAL_VICTIMAS_24H, TOTAL_MU30DF, TOTAL_HG30DF, TOTAL_HL30DF, TOTAL_VICTIMAS_30DF, TOTAL_VEHICULOS, TOT_PEAT_MU24H, TOT_BICI_MU24H, TOT_CICLO_MU24H, TOT_MOTO_MU24H, TOT_TUR_MU24H, TOT_FURG_MU24H, TOT_CAM_MENOS3500_MU24H, TOT_CAM_MAS3500_MU24H, TOT_BUS_MU24H, TOT_OTRO_MU24H, TOT_SINESPECIF_MU24H, TOT_PEAT_MU30DF, TOT_BICI_MU30DF, TOT_CICLO_MU30DF, TOT_MOTO_MU30DF, TOT_TUR_MU30DF, TOT_FURG_MU30DF, TOT_CAM_MENOS3500_MU30DF, TOT_CAM_MAS3500_MU30DF, TOT_BUS_MU30DF, TOT_VMP_MU30DF, TOT_OTRO_MU30DF, TOT_SINESPECIF_MU30DF, NUDO, NUDO_INFO, CARRETERA_CRUCE, PRIORI_NORMA, PRIORI_AGENTE, PRIORI_SEMAFORO, PRIORI_VERT_STOP, PRIORI_VERT_CEDA, PRIORI_HORIZ_STOP, PRIORI_HORIZ_CEDA, PRIORI_MARCAS, PRIORI_PEA_NO_ELEV, PRIORI_PEA_ELEV, PRIORI_MARCA_CICLOS, PRIORI_CIRCUNSTANCIAL, PRIORI_OTRA, CONDICION_NIVEL_CIRCULA, CONDICION_FIRME, CONDICION_ILUMINACION, CONDICION_METEO, CONDICION_NIEBLA, CONDICION_VIENTO, VISIB_RESTRINGIDA_POR, ACERA, TRAZADO_PLANTA]\n",
      "Index: []\n",
      "\n",
      "[0 rows x 73 columns])\n"
     ]
    }
   ],
   "source": [
    "print(f\"Total de fallecidos registrados en el accidente computados a 24 horas mas que computados a 30 días {df.loc[df['TOTAL_MU24H'] > df['TOTAL_MU30DF']]} \\n\")\n",
    "\n",
    "print(f\"Total de víctimas registrados en el accidente computados a 24 horas mas que computados a 30 días {df.loc[df['TOTAL_VICTIMAS_24H'] > df['TOTAL_VICTIMAS_30DF']]})\")"
   ]
  },
  {
   "cell_type": "markdown",
   "id": "f7ca7ce0",
   "metadata": {},
   "source": [
    "No existe ningun accidente con más fallecidos ni victimas computadas a 24 horas que a 30 días, se asume por tanto, que el registro computado a 30 días ya incluye el de 24 horas.. \n",
    "\n",
    "\n",
    "No vamos a eliminar el resto de columnas sobre fallecidos ya que aunque no se vayan a incluir en nuestro modelo pueden ser interesantes para analizar estadísticas."
   ]
  },
  {
   "cell_type": "markdown",
   "id": "f0170044",
   "metadata": {},
   "source": [
    "Otra cuestión parecida a la anterior es si el número de heridos hospitalizados incluye también a los que acabaron muriendo. Este problema es más complicado, ya que si una víctima es hospitalizada y acaba muriendo en los 30 días posteriores es posible que cuente dentro de los dos grupos, no obstante dado que el total de victimas se calcula con la suma de fallecidos, hospitalizados y no hospitalizados, en teoría si alguien acaba falleciendo en el hospital no debería contar como victima hospitalizada ya que sino al hacer la suma estarían contando doble las victimas en estos casos, pero vamos a comprobarlo."
   ]
  },
  {
   "cell_type": "code",
   "execution_count": 96,
   "id": "f7013fe1",
   "metadata": {},
   "outputs": [
    {
     "data": {
      "text/html": [
       "<div>\n",
       "<style scoped>\n",
       "    .dataframe tbody tr th:only-of-type {\n",
       "        vertical-align: middle;\n",
       "    }\n",
       "\n",
       "    .dataframe tbody tr th {\n",
       "        vertical-align: top;\n",
       "    }\n",
       "\n",
       "    .dataframe thead th {\n",
       "        text-align: right;\n",
       "    }\n",
       "</style>\n",
       "<table border=\"1\" class=\"dataframe\">\n",
       "  <thead>\n",
       "    <tr style=\"text-align: right;\">\n",
       "      <th></th>\n",
       "      <th>TOTAL_MU24H</th>\n",
       "      <th>TOTAL_MU30DF</th>\n",
       "      <th>TOTAL_HG24H</th>\n",
       "      <th>TOTAL_HG30DF</th>\n",
       "    </tr>\n",
       "  </thead>\n",
       "  <tbody>\n",
       "    <tr>\n",
       "      <th>16</th>\n",
       "      <td>1</td>\n",
       "      <td>1</td>\n",
       "      <td>0</td>\n",
       "      <td>0</td>\n",
       "    </tr>\n",
       "    <tr>\n",
       "      <th>133</th>\n",
       "      <td>1</td>\n",
       "      <td>1</td>\n",
       "      <td>0</td>\n",
       "      <td>0</td>\n",
       "    </tr>\n",
       "    <tr>\n",
       "      <th>196</th>\n",
       "      <td>1</td>\n",
       "      <td>1</td>\n",
       "      <td>0</td>\n",
       "      <td>0</td>\n",
       "    </tr>\n",
       "    <tr>\n",
       "      <th>324</th>\n",
       "      <td>0</td>\n",
       "      <td>1</td>\n",
       "      <td>1</td>\n",
       "      <td>0</td>\n",
       "    </tr>\n",
       "    <tr>\n",
       "      <th>446</th>\n",
       "      <td>2</td>\n",
       "      <td>2</td>\n",
       "      <td>0</td>\n",
       "      <td>0</td>\n",
       "    </tr>\n",
       "    <tr>\n",
       "      <th>...</th>\n",
       "      <td>...</td>\n",
       "      <td>...</td>\n",
       "      <td>...</td>\n",
       "      <td>...</td>\n",
       "    </tr>\n",
       "    <tr>\n",
       "      <th>97610</th>\n",
       "      <td>1</td>\n",
       "      <td>1</td>\n",
       "      <td>0</td>\n",
       "      <td>0</td>\n",
       "    </tr>\n",
       "    <tr>\n",
       "      <th>97619</th>\n",
       "      <td>1</td>\n",
       "      <td>1</td>\n",
       "      <td>0</td>\n",
       "      <td>0</td>\n",
       "    </tr>\n",
       "    <tr>\n",
       "      <th>97622</th>\n",
       "      <td>1</td>\n",
       "      <td>1</td>\n",
       "      <td>0</td>\n",
       "      <td>0</td>\n",
       "    </tr>\n",
       "    <tr>\n",
       "      <th>97646</th>\n",
       "      <td>0</td>\n",
       "      <td>1</td>\n",
       "      <td>1</td>\n",
       "      <td>0</td>\n",
       "    </tr>\n",
       "    <tr>\n",
       "      <th>97712</th>\n",
       "      <td>0</td>\n",
       "      <td>1</td>\n",
       "      <td>1</td>\n",
       "      <td>0</td>\n",
       "    </tr>\n",
       "  </tbody>\n",
       "</table>\n",
       "<p>1351 rows × 4 columns</p>\n",
       "</div>"
      ],
      "text/plain": [
       "       TOTAL_MU24H  TOTAL_MU30DF  TOTAL_HG24H  TOTAL_HG30DF\n",
       "16               1             1            0             0\n",
       "133              1             1            0             0\n",
       "196              1             1            0             0\n",
       "324              0             1            1             0\n",
       "446              2             2            0             0\n",
       "...            ...           ...          ...           ...\n",
       "97610            1             1            0             0\n",
       "97619            1             1            0             0\n",
       "97622            1             1            0             0\n",
       "97646            0             1            1             0\n",
       "97712            0             1            1             0\n",
       "\n",
       "[1351 rows x 4 columns]"
      ]
     },
     "execution_count": 96,
     "metadata": {},
     "output_type": "execute_result"
    }
   ],
   "source": [
    "df[['TOTAL_MU24H','TOTAL_MU30DF','TOTAL_HG24H','TOTAL_HG30DF']].loc[df['TOTAL_MU30DF'] > df['TOTAL_HG30DF']]"
   ]
  },
  {
   "cell_type": "markdown",
   "id": "4b2f3c88",
   "metadata": {},
   "source": [
    "Como se puede comprobar hay columnas en las que el número de fallecidos en 30 días supera al de ingresados en el mismo periodo, aunque pudiera ser que fallecieron fuera sin ser ingresados. \n",
    "\n",
    "Pero filas como la 16 donde hay dos víctimas, y una falleció en 24 horas y la otra en los 30 días indican que en efecto la columna de fallecidos es independiente de la de hospitalizados en el mismo periodo."
   ]
  },
  {
   "cell_type": "code",
   "execution_count": 97,
   "id": "6b12bb37",
   "metadata": {},
   "outputs": [
    {
     "data": {
      "text/html": [
       "<div>\n",
       "<style scoped>\n",
       "    .dataframe tbody tr th:only-of-type {\n",
       "        vertical-align: middle;\n",
       "    }\n",
       "\n",
       "    .dataframe tbody tr th {\n",
       "        vertical-align: top;\n",
       "    }\n",
       "\n",
       "    .dataframe thead th {\n",
       "        text-align: right;\n",
       "    }\n",
       "</style>\n",
       "<table border=\"1\" class=\"dataframe\">\n",
       "  <thead>\n",
       "    <tr style=\"text-align: right;\">\n",
       "      <th></th>\n",
       "      <th>TOTAL_MU24H</th>\n",
       "      <th>TOTAL_MU30DF</th>\n",
       "      <th>TOTAL_HG24H</th>\n",
       "      <th>TOTAL_HG30DF</th>\n",
       "      <th>TOTAL_HL24H</th>\n",
       "      <th>TOTAL_HL30DF</th>\n",
       "      <th>TOTAL_VICTIMAS_24H</th>\n",
       "      <th>TOTAL_VICTIMAS_30DF</th>\n",
       "    </tr>\n",
       "  </thead>\n",
       "  <tbody>\n",
       "    <tr>\n",
       "      <th>324</th>\n",
       "      <td>0</td>\n",
       "      <td>1</td>\n",
       "      <td>1</td>\n",
       "      <td>0</td>\n",
       "      <td>0</td>\n",
       "      <td>0</td>\n",
       "      <td>1</td>\n",
       "      <td>1</td>\n",
       "    </tr>\n",
       "    <tr>\n",
       "      <th>605</th>\n",
       "      <td>0</td>\n",
       "      <td>1</td>\n",
       "      <td>1</td>\n",
       "      <td>0</td>\n",
       "      <td>0</td>\n",
       "      <td>0</td>\n",
       "      <td>1</td>\n",
       "      <td>1</td>\n",
       "    </tr>\n",
       "    <tr>\n",
       "      <th>620</th>\n",
       "      <td>0</td>\n",
       "      <td>1</td>\n",
       "      <td>4</td>\n",
       "      <td>3</td>\n",
       "      <td>0</td>\n",
       "      <td>0</td>\n",
       "      <td>4</td>\n",
       "      <td>4</td>\n",
       "    </tr>\n",
       "    <tr>\n",
       "      <th>1568</th>\n",
       "      <td>0</td>\n",
       "      <td>1</td>\n",
       "      <td>1</td>\n",
       "      <td>0</td>\n",
       "      <td>2</td>\n",
       "      <td>2</td>\n",
       "      <td>3</td>\n",
       "      <td>3</td>\n",
       "    </tr>\n",
       "    <tr>\n",
       "      <th>1763</th>\n",
       "      <td>0</td>\n",
       "      <td>1</td>\n",
       "      <td>1</td>\n",
       "      <td>0</td>\n",
       "      <td>0</td>\n",
       "      <td>0</td>\n",
       "      <td>1</td>\n",
       "      <td>1</td>\n",
       "    </tr>\n",
       "    <tr>\n",
       "      <th>...</th>\n",
       "      <td>...</td>\n",
       "      <td>...</td>\n",
       "      <td>...</td>\n",
       "      <td>...</td>\n",
       "      <td>...</td>\n",
       "      <td>...</td>\n",
       "      <td>...</td>\n",
       "      <td>...</td>\n",
       "    </tr>\n",
       "    <tr>\n",
       "      <th>97226</th>\n",
       "      <td>0</td>\n",
       "      <td>1</td>\n",
       "      <td>1</td>\n",
       "      <td>0</td>\n",
       "      <td>0</td>\n",
       "      <td>0</td>\n",
       "      <td>1</td>\n",
       "      <td>1</td>\n",
       "    </tr>\n",
       "    <tr>\n",
       "      <th>97229</th>\n",
       "      <td>0</td>\n",
       "      <td>1</td>\n",
       "      <td>1</td>\n",
       "      <td>0</td>\n",
       "      <td>0</td>\n",
       "      <td>0</td>\n",
       "      <td>1</td>\n",
       "      <td>1</td>\n",
       "    </tr>\n",
       "    <tr>\n",
       "      <th>97506</th>\n",
       "      <td>0</td>\n",
       "      <td>1</td>\n",
       "      <td>1</td>\n",
       "      <td>0</td>\n",
       "      <td>0</td>\n",
       "      <td>0</td>\n",
       "      <td>1</td>\n",
       "      <td>1</td>\n",
       "    </tr>\n",
       "    <tr>\n",
       "      <th>97646</th>\n",
       "      <td>0</td>\n",
       "      <td>1</td>\n",
       "      <td>1</td>\n",
       "      <td>0</td>\n",
       "      <td>0</td>\n",
       "      <td>0</td>\n",
       "      <td>1</td>\n",
       "      <td>1</td>\n",
       "    </tr>\n",
       "    <tr>\n",
       "      <th>97712</th>\n",
       "      <td>0</td>\n",
       "      <td>1</td>\n",
       "      <td>1</td>\n",
       "      <td>0</td>\n",
       "      <td>0</td>\n",
       "      <td>0</td>\n",
       "      <td>1</td>\n",
       "      <td>1</td>\n",
       "    </tr>\n",
       "  </tbody>\n",
       "</table>\n",
       "<p>232 rows × 8 columns</p>\n",
       "</div>"
      ],
      "text/plain": [
       "       TOTAL_MU24H  TOTAL_MU30DF  TOTAL_HG24H  TOTAL_HG30DF  TOTAL_HL24H  \\\n",
       "324              0             1            1             0            0   \n",
       "605              0             1            1             0            0   \n",
       "620              0             1            4             3            0   \n",
       "1568             0             1            1             0            2   \n",
       "1763             0             1            1             0            0   \n",
       "...            ...           ...          ...           ...          ...   \n",
       "97226            0             1            1             0            0   \n",
       "97229            0             1            1             0            0   \n",
       "97506            0             1            1             0            0   \n",
       "97646            0             1            1             0            0   \n",
       "97712            0             1            1             0            0   \n",
       "\n",
       "       TOTAL_HL30DF  TOTAL_VICTIMAS_24H  TOTAL_VICTIMAS_30DF  \n",
       "324               0                   1                    1  \n",
       "605               0                   1                    1  \n",
       "620               0                   4                    4  \n",
       "1568              2                   3                    3  \n",
       "1763              0                   1                    1  \n",
       "...             ...                 ...                  ...  \n",
       "97226             0                   1                    1  \n",
       "97229             0                   1                    1  \n",
       "97506             0                   1                    1  \n",
       "97646             0                   1                    1  \n",
       "97712             0                   1                    1  \n",
       "\n",
       "[232 rows x 8 columns]"
      ]
     },
     "execution_count": 97,
     "metadata": {},
     "output_type": "execute_result"
    }
   ],
   "source": [
    "#más hospitalizados en 24 horas que en 30 días\n",
    "df[['TOTAL_MU24H','TOTAL_MU30DF','TOTAL_HG24H', 'TOTAL_HG30DF','TOTAL_HL24H','TOTAL_HL30DF','TOTAL_VICTIMAS_24H','TOTAL_VICTIMAS_30DF']].loc[df['TOTAL_HG24H'] > df['TOTAL_HG30DF']]"
   ]
  },
  {
   "cell_type": "markdown",
   "id": "dd67ba75",
   "metadata": {},
   "source": [
    "Es curioso que si que haya algunos casos donde hay más hospitalizados en 24 horas que en 30 días, por lo que a priori parece que en este caso estár hospitalizado en las primeras 24 horas no implica contar como que estuviste hospitalizado en los 30 días posteriores, no obstante hay algunas incoherencias:\n",
    "- En todos los casos hubo un fallecido en 30 días y ninguno en 24 horas (Cuando solo era una victima)\n",
    "- Si estuvo hospitalizado menos de 24 horas y no falleció en esas horas cabría pensar que se trata de un accidente leve, pero solo hay 232 casos cuando los accidentes leves deberían ser mayoritarios, además falleció en los siguientes 30 días lo que indica que fue un accidente mortal.\n",
    "\n",
    "Teoría: Como hemos mencionado anteriormente alguien fallecido en 30 días no será incluido en la columna de hospitalizados en ese periodo ya que generaría un conteo doble en el total de víctimas, no obstante, si será incluido en los hospitalizados en 24 horas ya que eso no genera ningúna incoherencia. Por tanto, los casos que observamos en la tabla anterior son casos donde la victima del accidente fue llevada al hospital de inmediato (Hospitalizado 24 horas), no falleció en las primeras 24 horas pero sí falleció en los siguientes días y lo sacaron de la lista de hospitalizados en 30 días. En estos casos la víctima nunca fallece en las primeras 24 horas porque de hacerlo se le sacaría del número de hospitalizados en ese periodo (y en el siguiente también ya que contaría como fallecido).\n",
    "\n",
    "Vamos a confirmar esta teoría, para ello se tienen que dar varias condiciones, que son:\n",
    "- 1º Si el número de fallecidos en 24 horas es 0 y el número de fallecidos en 30 días es igual al de ingresados en 24 horas y mayor a 0, el número de ingresados en 30 días nunca podrá ser ni igual ni mayor al de fallecidos en 30 días.\n",
    "- 2º En los casos donde el número de fallecidos computados a 24 horas y 30 días sea el mismo, y el número de ingresados computados a 24 horas y 30 días también lo sea, serán siempre casos en donde hubo más de una víctima (al menos una que falleció y una que sobrevivió) <font color=\"red\">Revisar segunda condición, porque ya, la primera fila no cumple eso de al menos una que falleció y otra que sobrevivio </font>\n",
    "- 3º El total de víctimas en computados a 24 horas y computados a 30 días siempre será el mismo."
   ]
  },
  {
   "cell_type": "code",
   "execution_count": 98,
   "id": "5951371b",
   "metadata": {},
   "outputs": [],
   "source": [
    "# 1º Condición\n",
    "condicion_1 = df[['TOTAL_MU24H','TOTAL_MU30DF','TOTAL_HG24H', 'TOTAL_HG30DF','TOTAL_VICTIMAS_24H',\n",
    "       'TOTAL_VICTIMAS_30DF','TOTAL_HL24H','TOTAL_HL30DF']].loc[(df['TOTAL_MU24H'] == 0) & (df['TOTAL_MU30DF']==df['TOTAL_HG24H']) & (df['TOTAL_MU30DF']>0) & (df['TOTAL_HG30DF']>=df['TOTAL_MU30DF'])]\n",
    "\n",
    "#2º Condición\n",
    "condicion_2 = df[['TOTAL_MU24H','TOTAL_MU30DF','TOTAL_HG24H', 'TOTAL_HG30DF','TOTAL_VICTIMAS_24H',\n",
    "       'TOTAL_VICTIMAS_30DF']].loc[(df['TOTAL_MU24H'] == df['TOTAL_MU30DF']) & (df['TOTAL_HG24H']==df['TOTAL_MU30DF']) & (df['TOTAL_HG24H']==1)]\n",
    "\n",
    "#3º Condición\n",
    "condicion_3 = df.loc[df['TOTAL_VICTIMAS_24H'] != df['TOTAL_VICTIMAS_30DF']]\n",
    "\n"
   ]
  },
  {
   "cell_type": "markdown",
   "id": "249b75d6",
   "metadata": {},
   "source": [
    "Todas las condiciones se han cumplido, por lo que parece que la teoría planteada era correcta. Además se termina de concluir que los registros computados a 30 días incluyen los computados a 24 horas."
   ]
  },
  {
   "cell_type": "code",
   "execution_count": 99,
   "id": "01da5481",
   "metadata": {},
   "outputs": [
    {
     "data": {
      "text/html": [
       "<div>\n",
       "<style scoped>\n",
       "    .dataframe tbody tr th:only-of-type {\n",
       "        vertical-align: middle;\n",
       "    }\n",
       "\n",
       "    .dataframe tbody tr th {\n",
       "        vertical-align: top;\n",
       "    }\n",
       "\n",
       "    .dataframe thead th {\n",
       "        text-align: right;\n",
       "    }\n",
       "</style>\n",
       "<table border=\"1\" class=\"dataframe\">\n",
       "  <thead>\n",
       "    <tr style=\"text-align: right;\">\n",
       "      <th></th>\n",
       "      <th>TOTAL_MU30DF</th>\n",
       "      <th>TOTAL_HG30DF</th>\n",
       "      <th>TOTAL_HL30DF</th>\n",
       "      <th>TOTAL_VICTIMAS_30DF</th>\n",
       "    </tr>\n",
       "  </thead>\n",
       "  <tbody>\n",
       "    <tr>\n",
       "      <th>12034</th>\n",
       "      <td>2</td>\n",
       "      <td>2</td>\n",
       "      <td>2</td>\n",
       "      <td>6</td>\n",
       "    </tr>\n",
       "    <tr>\n",
       "      <th>12851</th>\n",
       "      <td>2</td>\n",
       "      <td>2</td>\n",
       "      <td>0</td>\n",
       "      <td>4</td>\n",
       "    </tr>\n",
       "    <tr>\n",
       "      <th>29576</th>\n",
       "      <td>2</td>\n",
       "      <td>2</td>\n",
       "      <td>6</td>\n",
       "      <td>10</td>\n",
       "    </tr>\n",
       "    <tr>\n",
       "      <th>30031</th>\n",
       "      <td>2</td>\n",
       "      <td>2</td>\n",
       "      <td>2</td>\n",
       "      <td>6</td>\n",
       "    </tr>\n",
       "    <tr>\n",
       "      <th>31432</th>\n",
       "      <td>3</td>\n",
       "      <td>3</td>\n",
       "      <td>0</td>\n",
       "      <td>6</td>\n",
       "    </tr>\n",
       "    <tr>\n",
       "      <th>83079</th>\n",
       "      <td>2</td>\n",
       "      <td>2</td>\n",
       "      <td>0</td>\n",
       "      <td>4</td>\n",
       "    </tr>\n",
       "    <tr>\n",
       "      <th>88434</th>\n",
       "      <td>2</td>\n",
       "      <td>2</td>\n",
       "      <td>6</td>\n",
       "      <td>10</td>\n",
       "    </tr>\n",
       "    <tr>\n",
       "      <th>91138</th>\n",
       "      <td>2</td>\n",
       "      <td>2</td>\n",
       "      <td>0</td>\n",
       "      <td>4</td>\n",
       "    </tr>\n",
       "  </tbody>\n",
       "</table>\n",
       "</div>"
      ],
      "text/plain": [
       "       TOTAL_MU30DF  TOTAL_HG30DF  TOTAL_HL30DF  TOTAL_VICTIMAS_30DF\n",
       "12034             2             2             2                    6\n",
       "12851             2             2             0                    4\n",
       "29576             2             2             6                   10\n",
       "30031             2             2             2                    6\n",
       "31432             3             3             0                    6\n",
       "83079             2             2             0                    4\n",
       "88434             2             2             6                   10\n",
       "91138             2             2             0                    4"
      ]
     },
     "execution_count": 99,
     "metadata": {},
     "output_type": "execute_result"
    }
   ],
   "source": [
    "# ALEX: Este creo que no aporta nada pero lo he dejado por si opinas lo contrario, si estás de acuerdo bórralo\n",
    "df[['TOTAL_MU30DF','TOTAL_HG30DF','TOTAL_HL30DF','TOTAL_VICTIMAS_30DF']].loc[(df['TOTAL_MU30DF'] == df['TOTAL_HG30DF']) & (df['TOTAL_MU30DF'] > 1)]"
   ]
  },
  {
   "cell_type": "code",
   "execution_count": 100,
   "id": "eac4d7fa",
   "metadata": {},
   "outputs": [],
   "source": [
    "#Aquí habría que ver si borramos la de no hospitalizados en 24 horas, nos sirve de algo?\n",
    "df = df.drop(['TOTAL_MU24H','TOTAL_VICTIMAS_24H'], axis=1)"
   ]
  },
  {
   "cell_type": "markdown",
   "id": "8a364038",
   "metadata": {},
   "source": [
    "Diferenciaremos entre tres tipos de accidentes: Mortal, leve y sin lesiones. Ya que en el dataset no se indica el tipo de lesión vamos a establecer el siguiente criterio:\n",
    "\n",
    "- Mortal = La víctima fallece (en cualquier periodo).\n",
    "- Leve = Fue al hospital\n",
    "- Sin lesiones = No fue al hospital"
   ]
  },
  {
   "cell_type": "markdown",
   "id": "d6f655b7",
   "metadata": {},
   "source": [
    "Se establece la columna tipo de accidente en función de la prioridad:\n",
    "\n",
    "- Si hay una victima mortal, el accidente se clasifica como  'Mortal'\n",
    "- Si no hay ningun accidente mortal pero al menos una víctima ha sido ingresada en el hospital, el accidente se clasifica como 'Leve'\n",
    "- Si no hay ningun accidente mortal ni nadie ha sido ingresado en el hospital el accidente se clasifica como 'Sin_lesiones'"
   ]
  },
  {
   "cell_type": "code",
   "execution_count": 101,
   "id": "f4ce8501",
   "metadata": {},
   "outputs": [],
   "source": [
    "\n",
    "def clasificar_accidentes(column):\n",
    "    if column['TOTAL_MU30DF'] > 0:\n",
    "        return 'Mortal'\n",
    "    elif column['TOTAL_HG30DF'] > 0 & column['TOTAL_MU30DF'] == 0: \n",
    "        return 'Leve'\n",
    "    else: \n",
    "        return 'Sin_lesiones'\n",
    "\n",
    "df['TYP_ACC'] = df.apply(clasificar_accidentes, axis=1) # Crear la columna TYP_ACC basada en las condicione\n",
    "\n"
   ]
  },
  {
   "cell_type": "markdown",
   "id": "ed7e25a6",
   "metadata": {},
   "source": [
    "Se contabiliza el número de accidentes mortales, leves y sin lesiones que hay en el dataset"
   ]
  },
  {
   "cell_type": "code",
   "execution_count": 102,
   "id": "003025c3",
   "metadata": {},
   "outputs": [
    {
     "name": "stdout",
     "output_type": "stream",
     "text": [
      "El numero de accidentes mortales es 1620 un 1.65% del total de accidentes\n",
      "\n",
      "El número de accidentes leves es 7410 un 7.57% del total de accidentes \n",
      "\n",
      "El número de accidentes sin lesiones es 88886 un 90.78% del total de accidentes\n"
     ]
    }
   ],
   "source": [
    "cont_mortales = 0\n",
    "cont_leves = 0\n",
    "cont_sin_lesiones = 0\n",
    "\n",
    "for i in df['TYP_ACC']:\n",
    "    if i == \"Mortal\":\n",
    "        cont_mortales += 1\n",
    "    elif i == \"Leve\":\n",
    "        cont_leves += 1\n",
    "    else:\n",
    "        cont_sin_lesiones +=1\n",
    "\n",
    "total_accidentes = cont_mortales + cont_leves + cont_sin_lesiones #len(df)\n",
    "porc_mortales = (cont_mortales/total_accidentes)*100\n",
    "porc_leves = (cont_leves/total_accidentes)*100\n",
    "porc_sin_lesiones = (cont_sin_lesiones/total_accidentes)*100\n",
    "\n",
    "print(f\"El numero de accidentes mortales es {cont_mortales} un {porc_mortales:.2f}% del total de accidentes\\n\")\n",
    "print(f\"El número de accidentes leves es {cont_leves} un {porc_leves:.2f}% del total de accidentes \\n\")\n",
    "print(f\"El número de accidentes sin lesiones es {cont_sin_lesiones} un {porc_sin_lesiones:.2f}% del total de accidentes\")\n"
   ]
  },
  {
   "cell_type": "markdown",
   "id": "3bc19e7d",
   "metadata": {},
   "source": [
    "Se extrae que la gran mayoría de accidentes han sido sin lesiones, una minoria leves y una gran minoria mortales."
   ]
  },
  {
   "cell_type": "markdown",
   "id": "c946f19f",
   "metadata": {},
   "source": [
    "<font color=\"red\">Tenemos una columna llamada TIPO_ACCIDENTE, en el EDA estoy viendo que resulta muy confuso con esta nueva variable 'TYP_ACC' deberíamos cambiar el nombre a alguna, por ejemplo </font>"
   ]
  },
  {
   "cell_type": "markdown",
   "id": "3a90e723",
   "metadata": {},
   "source": [
    "# Limpieza y simplificación del Dataset"
   ]
  },
  {
   "cell_type": "code",
   "execution_count": 103,
   "id": "e0fb1c51",
   "metadata": {},
   "outputs": [],
   "source": [
    "# Eliminar irrelevantes\n",
    "df = df.drop(['ID_ACCIDENTE','ZONA_AGRUPADA','ANYO','TITULARIDAD_VIA','TOT_PEAT_MU24H','TOT_BICI_MU24H','TOT_CICLO_MU24H', \n",
    "        'TOT_MOTO_MU24H', 'TOT_TUR_MU24H','TOT_FURG_MU24H','TOT_CAM_MENOS3500_MU24H','TOT_CAM_MAS3500_MU24H', 'TOT_BUS_MU24H',\n",
    "       'TOT_OTRO_MU24H','TOT_SINESPECIF_MU24H','TOT_BUS_MU30DF','TOT_SINESPECIF_MU30DF','NUDO_INFO','CARRETERA_CRUCE','CONDICION_NIEBLA',\n",
    "       'CONDICION_VIENTO','TOT_CAM_MENOS3500_MU30DF','SENTIDO_1F','PRIORI_NORMA', 'PRIORI_AGENTE', 'PRIORI_SEMAFORO', 'PRIORI_VERT_STOP',\n",
    "       'PRIORI_VERT_CEDA', 'PRIORI_HORIZ_STOP', 'PRIORI_HORIZ_CEDA','PRIORI_MARCAS', 'PRIORI_PEA_NO_ELEV', 'PRIORI_PEA_ELEV',\n",
    "       'PRIORI_MARCA_CICLOS', 'ACERA','TIPO_VIA','VISIB_RESTRINGIDA_POR','CONDICION_NIVEL_CIRCULA','PRIORI_CIRCUNSTANCIAL',\n",
    "       'PRIORI_OTRA','TRAZADO_PLANTA','COD_MUNICIPIO', 'ISLA',], axis=1)\n"
   ]
  },
  {
   "cell_type": "markdown",
   "id": "7fc1a595",
   "metadata": {},
   "source": [
    "<font color=\"red\">La de no hospitalizados 24 horas quieres que las eliminemos? no se me ocurre que valgan para nada no? </font>\n"
   ]
  },
  {
   "cell_type": "code",
   "execution_count": 104,
   "id": "1931c7d3",
   "metadata": {},
   "outputs": [
    {
     "name": "stdout",
     "output_type": "stream",
     "text": [
      "<class 'pandas.core.frame.DataFrame'>\n",
      "RangeIndex: 97916 entries, 0 to 97915\n",
      "Data columns (total 29 columns):\n",
      " #   Column                  Non-Null Count  Dtype  \n",
      "---  ------                  --------------  -----  \n",
      " 0   MES                     97916 non-null  int64  \n",
      " 1   DIA_SEMANA              97916 non-null  int64  \n",
      " 2   HORA                    97916 non-null  int64  \n",
      " 3   COD_PROVINCIA           97916 non-null  int64  \n",
      " 4   ZONA                    97916 non-null  int64  \n",
      " 5   CARRETERA               97916 non-null  object \n",
      " 6   KM                      50944 non-null  float64\n",
      " 7   TIPO_ACCIDENTE          97916 non-null  int64  \n",
      " 8   TOTAL_HG24H             97916 non-null  int64  \n",
      " 9   TOTAL_HL24H             97916 non-null  int64  \n",
      " 10  TOTAL_MU30DF            97916 non-null  int64  \n",
      " 11  TOTAL_HG30DF            97916 non-null  int64  \n",
      " 12  TOTAL_HL30DF            97916 non-null  int64  \n",
      " 13  TOTAL_VICTIMAS_30DF     97916 non-null  int64  \n",
      " 14  TOTAL_VEHICULOS         97916 non-null  int64  \n",
      " 15  TOT_PEAT_MU30DF         97916 non-null  int64  \n",
      " 16  TOT_BICI_MU30DF         97916 non-null  int64  \n",
      " 17  TOT_CICLO_MU30DF        97916 non-null  int64  \n",
      " 18  TOT_MOTO_MU30DF         97916 non-null  int64  \n",
      " 19  TOT_TUR_MU30DF          97916 non-null  int64  \n",
      " 20  TOT_FURG_MU30DF         97916 non-null  int64  \n",
      " 21  TOT_CAM_MAS3500_MU30DF  97916 non-null  int64  \n",
      " 22  TOT_VMP_MU30DF          97916 non-null  int64  \n",
      " 23  TOT_OTRO_MU30DF         97916 non-null  int64  \n",
      " 24  NUDO                    97916 non-null  int64  \n",
      " 25  CONDICION_FIRME         97916 non-null  int64  \n",
      " 26  CONDICION_ILUMINACION   97916 non-null  int64  \n",
      " 27  CONDICION_METEO         97916 non-null  int64  \n",
      " 28  TYP_ACC                 97916 non-null  object \n",
      "dtypes: float64(1), int64(26), object(2)\n",
      "memory usage: 21.7+ MB\n"
     ]
    }
   ],
   "source": [
    "df.info()"
   ]
  },
  {
   "cell_type": "markdown",
   "id": "84813efc",
   "metadata": {},
   "source": [
    "Parece que el dataset no tiene valores nulos excepto por la columna 'ISLA' que es normal porque la mayoría de accidentes ocurrieron en el territorio peninsular y en 'KM' que se trata de carreteras no inventariadas. No obstante esto no es cierto ya que en el dataset se utiliza 999 para indicar los valores faltantes, por eso parece que no hay nulos, vamos a eliminar estos valores para ver realmente como es nuestro Dataframe. También vamos a sustituir los valores nulos en 'ISLA' con 0 para indicar que no aplica."
   ]
  },
  {
   "cell_type": "code",
   "execution_count": 105,
   "id": "e362f416",
   "metadata": {},
   "outputs": [],
   "source": [
    "df = df.replace(999, np.nan)\n",
    "df[['CONDICION_METEO']] = df[['CONDICION_METEO']].replace(7, np.nan)\n",
    "df[['CONDICION_FIRME']] = df[['CONDICION_FIRME']].replace(9, np.nan)"
   ]
  },
  {
   "cell_type": "code",
   "execution_count": 106,
   "id": "5080ae33",
   "metadata": {},
   "outputs": [
    {
     "name": "stdout",
     "output_type": "stream",
     "text": [
      "<class 'pandas.core.frame.DataFrame'>\n",
      "RangeIndex: 97916 entries, 0 to 97915\n",
      "Data columns (total 2 columns):\n",
      " #   Column           Non-Null Count  Dtype  \n",
      "---  ------           --------------  -----  \n",
      " 0   CONDICION_METEO  96411 non-null  float64\n",
      " 1   CONDICION_FIRME  96610 non-null  float64\n",
      "dtypes: float64(2)\n",
      "memory usage: 1.5 MB\n"
     ]
    }
   ],
   "source": [
    "#Comprobar el número de valores nulos en las columnas ajustadas\n",
    "df_subset_nulls = df[['CONDICION_METEO','CONDICION_FIRME']]\n",
    "df_subset_nulls.info()"
   ]
  },
  {
   "cell_type": "markdown",
   "id": "f0388fbb",
   "metadata": {},
   "source": [
    "Aunque hay más nulos que antes, siguen siendo pocos teniendo en cuenta el tamaño del dataset, por la única columna que eliminaremos en base a este criterio es 'KM'"
   ]
  },
  {
   "cell_type": "code",
   "execution_count": 107,
   "id": "c8035465",
   "metadata": {},
   "outputs": [],
   "source": [
    "df = df.drop(['KM'], axis=1)"
   ]
  },
  {
   "cell_type": "markdown",
   "id": "2ccc6671",
   "metadata": {},
   "source": [
    "# Simplificación de las variables"
   ]
  },
  {
   "cell_type": "markdown",
   "id": "fd7b04dd",
   "metadata": {},
   "source": [
    "Hay ciertas variables que aunque son categóricas como la provincia, el tipo de vía, el tipo de accidente, etc. Se encuentran en formato numérico, lo cual para entrenar el modelo será mejor pero para visualizar los datos puede ser muy confuso, por lo que vamos a crear diccionarios de todas ellas para ayudar visualizar los datos."
   ]
  },
  {
   "cell_type": "code",
   "execution_count": null,
   "id": "0fc32db7",
   "metadata": {},
   "outputs": [],
   "source": [
    "#Diccionarios\n",
    "\n",
    "dia_semana = {1:'Lunes', 2:'Martes', 3:'Miercoles', 4:'Jueves', 5:'Viernes', 6:'Sábado', 7:'Domingo'}\n",
    "\n",
    "cod_provincia = {1: 'Álava', 2: 'Albacete', 3: 'Alicante', 4: 'Almería', 5: 'Ávila', 6: 'Badajoz', 7: 'Islas Baleares', 8: 'Barcelona', \n",
    "                9: 'Burgos', 10: 'Cáceres', 11: 'Cádiz', 12: 'Castellón', 13: 'Ciudad Real', 14: 'Córdoba', 15: 'Coruña', 16: 'Cuenca', \n",
    "                17: 'Girona', 18: 'Granada', 19: 'Guadalajara', 20: 'Gipuzkoa', 21: 'Huelva', 22: 'Huesca', 23: 'Jaén', 24: 'León', \n",
    "                25: 'Lleida', 26: 'Rioja, La', 27: 'Lugo', 28: 'Madrid', 29: 'Málaga', 30: 'Murcia', 31: 'Navarra', 32: 'Ourense', \n",
    "                33: 'Asturias', 34: 'Palencia', 35: 'Las Palmas', 36: 'Pontevedra', 37: 'Salamanca', 38: 'Santa Cruz de Tenerife', \n",
    "                39: 'Cantabria', 40: 'Segovia', 41: 'Sevilla', 42: 'Soria', 43: 'Tarragona', 44: 'Teruel', 45: 'Toledo', 46: 'Valencia', \n",
    "                47: 'Valladolid', 48: 'Bizkaia', 49: 'Zamora', 50: 'Zaragoza', 51: 'Ceuta', 52: 'Melilla'}\n",
    "\n",
    "zona = {1:'Carretera',2:'Travesía',3:'Calle',4:'Autopista o autovía urbana'}\n",
    "#Me equivoqué, estos diccionarios no hacen falta, necesitamos ponerlos con las nuevas variables\n",
    "tipo_accidente={1:'Frontal',2:'Fronto-lateral',3:'Lateral',4:'Por alcance',5:'Múltiple o en caravana',6:'Colisión contra obstáculo o elemento de la vía',7:'Atropello a personas',8:'Atropello a animales',9:'Vuelco',10:'Caída',11:'Sólo salida de la vía',12:'Salida de la vía por la izquierda con colisión',13:'Salida de la vía por la izquierda con despeñamiento',14:'Salida de la vía por la izquierda con vuelco',15:'Salida de la vía por la izquierda, otro tipo',16:'Salida de la vía por la derecha con colisión',17:'Salida de la vía por la derecha con despeñamiento',18:'Salida de la vía por la derecha con vuelco',19:'Salida de la vía por la derecha otro tipo',20:'Otro tipo de accidente'}\n",
    "\n",
    "nudo = {1:'En intersección', 2:'Fuera de intersección'}\n",
    "\n",
    "condicion_meteo = {1:'Despejado',2:'Nublado',3:'Lluvia débil',4:'Lluvia fuerte',5:'Granizando',6:'Nevando'}\n",
    "\n",
    "condicion_firme={1:'Seco y limpio',2:'Con barro o gravilla suelta',3:'Mojado',4:'Muy encharcado o inundado',5:'Con hielo',6:'Con nieve',7:'Con aceite',8:'Otra'}\n",
    "\n",
    "condicion_iluminacion={1:'Luz del día natural',2:'Amanecer o atardecer',3:'Sin luz natural'}"
   ]
  },
  {
   "cell_type": "markdown",
   "id": "c25baad2",
   "metadata": {},
   "source": [
    "Debido a que más del 90% de accidentes se agrupan en la categoría 'Sin_lesiones' es necesario simplificar las variables con demasiadas categorías ya que sino cada accidente con leve o grave va a tener características únicas, dificultando enormemente tanto el analisis de los datos como el entrenamiento del modelo"
   ]
  },
  {
   "cell_type": "code",
   "execution_count": 109,
   "id": "95f056ac",
   "metadata": {},
   "outputs": [],
   "source": [
    "#diccionarios para simplificar las variables\n",
    "tipo_accidente_simpl = {1:1, 2:1, 3:1, 4:1, 5:1, 6:1, 7:2, 8:2, 11:3, 12:3, 13:3, 14:3, 15:3, 16:3, 17:3, 18:3, 19:3, 9:4, 10:4, 20:4}\n",
    "condicion_firme_simpl = {1:1, 2:2, 3:3, 4:3, 5:4, 6:4, 7:4, 8:5}\n",
    "condicion_iluminacion_simpl = {1:1, 2:2, 3:2,4:3, 5:3, 6:3}\n",
    "\n",
    "#Actualización con las nuevas variables\n",
    "df['CONDICION_ILUMINACION'] = df['CONDICION_ILUMINACION'].map(condicion_iluminacion_simpl)\n"
   ]
  },
  {
   "cell_type": "code",
   "execution_count": null,
   "id": "872e3ceb",
   "metadata": {},
   "outputs": [
    {
     "data": {
      "text/plain": [
       "0        País Vasco\n",
       "1        País Vasco\n",
       "2        País Vasco\n",
       "3        País Vasco\n",
       "4        País Vasco\n",
       "            ...    \n",
       "97911         Ceuta\n",
       "97912         Ceuta\n",
       "97913       Melilla\n",
       "97914       Melilla\n",
       "97915       Melilla\n",
       "Name: COMUNIDAD, Length: 97916, dtype: object"
      ]
     },
     "execution_count": 114,
     "metadata": {},
     "output_type": "execute_result"
    }
   ],
   "source": [
    "#Agrupación de provincias en comunidades autónomas\n",
    "dict_prov_to_com={1:'País Vasco',2:'Castilla-La Mancha',3:'Comunidad Valenciana',4:'Andalucía',5:'Castilla y León',6:'Extremadura',\n",
    "                  7:'Islas Baleares',8:'Cataluña',9:'Castilla y León',10:'Extremadura',11:'Andalucía',12:'Comunidad Valenciana',\n",
    "                  13:'Castilla-La Mancha',14:'Andalucía',15:'Galicia',16:'Castilla-La Mancha',17:'Cataluña',18:'Andalucía',\n",
    "                  19:'Castilla-La Mancha',20:'País Vasco',21:'Andalucía',22:'Aragón',23:'Andalucía',24:'Castilla y León',25:'Cataluña',\n",
    "                  26:'La Rioja',27:'Galicia',28:'Comunidad de Madrid',29:'Andalucía',30:'Murcia',31:'Navarra',32:'Galicia',33:'Asturias',\n",
    "                  34:'Castilla y León',35:'Islas Canarias',36:'Galicia',37:'Castilla y León',38:'Islas Canarias',39:'Cantabria',\n",
    "                  40:'Castilla y León',41:'Andalucía',42:'Castilla y León',43:'Cataluña',44:'Aragón',45:'Castilla-La Mancha',\n",
    "                  46:'Comunidad Valenciana',47:'Castilla y León',48:'País Vasco',49:'Castilla y León',50:'Aragón',51:'Ceuta',52:'Melilla'}\n",
    "\n",
    "df['COMUNIDAD'] = df['COD_PROVINCIA'].map(dict_prov_to_com)"
   ]
  },
  {
   "cell_type": "code",
   "execution_count": 123,
   "id": "92a82894",
   "metadata": {},
   "outputs": [],
   "source": [
    "#Cambio de nombre columnas para evitar confusión\n",
    "df['MECANISMO_ACCIDENTE'] = df['TIPO_ACCIDENTE']\n",
    "df['CONDICION_SUELO'] = df['CONDICION_FIRME']\n",
    "df['INTERSECCION'] = df['NUDO']"
   ]
  },
  {
   "cell_type": "markdown",
   "id": "467c1428",
   "metadata": {},
   "source": [
    "# Análisis de los datos"
   ]
  },
  {
   "cell_type": "markdown",
   "id": "f14e745c",
   "metadata": {},
   "source": [
    "Lo primero de todo vamos a analizar la influencia de todas las variables con una matriz de correlación para ir de lo feneral a lo específico."
   ]
  },
  {
   "cell_type": "code",
   "execution_count": 110,
   "id": "264ed0dd",
   "metadata": {},
   "outputs": [
    {
     "name": "stdout",
     "output_type": "stream",
     "text": [
      "Index(['MES', 'DIA_SEMANA', 'HORA', 'COD_PROVINCIA', 'ZONA', 'CARRETERA',\n",
      "       'TIPO_ACCIDENTE', 'TOTAL_HG24H', 'TOTAL_HL24H', 'TOTAL_MU30DF',\n",
      "       'TOTAL_HG30DF', 'TOTAL_HL30DF', 'TOTAL_VICTIMAS_30DF',\n",
      "       'TOTAL_VEHICULOS', 'TOT_PEAT_MU30DF', 'TOT_BICI_MU30DF',\n",
      "       'TOT_CICLO_MU30DF', 'TOT_MOTO_MU30DF', 'TOT_TUR_MU30DF',\n",
      "       'TOT_FURG_MU30DF', 'TOT_CAM_MAS3500_MU30DF', 'TOT_VMP_MU30DF',\n",
      "       'TOT_OTRO_MU30DF', 'NUDO', 'CONDICION_FIRME', 'CONDICION_ILUMINACION',\n",
      "       'CONDICION_METEO', 'TYP_ACC'],\n",
      "      dtype='object')\n"
     ]
    }
   ],
   "source": [
    "print(df.columns)\n"
   ]
  },
  {
   "cell_type": "code",
   "execution_count": 124,
   "id": "0c9644ab",
   "metadata": {},
   "outputs": [
    {
     "name": "stderr",
     "output_type": "stream",
     "text": [
      "C:\\Users\\Carlos\\AppData\\Local\\Temp\\ipykernel_1912\\802593369.py:4: SettingWithCopyWarning: \n",
      "A value is trying to be set on a copy of a slice from a DataFrame.\n",
      "Try using .loc[row_indexer,col_indexer] = value instead\n",
      "\n",
      "See the caveats in the documentation: https://pandas.pydata.org/pandas-docs/stable/user_guide/indexing.html#returning-a-view-versus-a-copy\n",
      "  df_subset[\"TYP_ACC\"] = pd.factorize(df_subset[\"TYP_ACC\"])[0]\n",
      "C:\\Users\\Carlos\\AppData\\Local\\Temp\\ipykernel_1912\\802593369.py:5: SettingWithCopyWarning: \n",
      "A value is trying to be set on a copy of a slice from a DataFrame.\n",
      "Try using .loc[row_indexer,col_indexer] = value instead\n",
      "\n",
      "See the caveats in the documentation: https://pandas.pydata.org/pandas-docs/stable/user_guide/indexing.html#returning-a-view-versus-a-copy\n",
      "  df_subset[\"COMUNIDAD\"] = pd.factorize(df_subset[\"COMUNIDAD\"])[0]\n"
     ]
    },
    {
     "data": {
      "image/png": "[encoded data removed]",
      "text/plain": [
       "<Figure size 1000x600 with 2 Axes>"
      ]
     },
     "metadata": {},
     "output_type": "display_data"
    }
   ],
   "source": [
    "df_subset = df[['MES', 'DIA_SEMANA', 'HORA', 'COMUNIDAD','ZONA','MECANISMO_ACCIDENTE','INTERSECCION', \n",
    "            'CONDICION_SUELO', 'CONDICION_ILUMINACION','CONDICION_METEO', 'TOTAL_VICTIMAS_30DF', 'TYP_ACC']]\n",
    "#Necesitamos convertir primero la variables categóricas a numéricas\n",
    "df_subset[\"TYP_ACC\"] = pd.factorize(df_subset[\"TYP_ACC\"])[0]\n",
    "df_subset[\"COMUNIDAD\"] = pd.factorize(df_subset[\"COMUNIDAD\"])[0]\n",
    "\n",
    "#Crear la matriz\n",
    "fig, axis = plt.subplots(figsize = (10, 6))\n",
    "\n",
    "sns.heatmap(df_subset.corr(), annot = True, fmt = \".2f\")\n",
    "plt.tight_layout()\n",
    "plt.show()"
   ]
  },
  {
   "cell_type": "markdown",
   "id": "6da7f3d2",
   "metadata": {},
   "source": [
    "Lo primero que se observa es la nula influencia de todas las variables en el tipo de accidente, esto era de esperar dado lo exageradamente poblado que está el dataset de accidentes tipo 'Sin Lesiones', por tanto, este primer análisis no concluye que las variables dependientes son incapaces de predecir la variable dependiente, sino que se requiere de más técnicas y un análisis más profundo.\n",
    "\n",
    "Respecto a la relación entre variables dependientes, la más fuerte es entre la condicion del suelo y las condiciones meteorológicas, casi un 50% de correlación, además el mecanismo del accidente parece relacionarse bastante con si se da en una intersección o no"
   ]
  },
  {
   "cell_type": "code",
   "execution_count": 113,
   "id": "e2598351",
   "metadata": {},
   "outputs": [
    {
     "data": {
      "text/plain": [
       "Index(['MES', 'DIA_SEMANA', 'HORA', 'COD_PROVINCIA', 'ZONA', 'CARRETERA',\n",
       "       'TIPO_ACCIDENTE', 'TOTAL_HG24H', 'TOTAL_HL24H', 'TOTAL_MU30DF',\n",
       "       'TOTAL_HG30DF', 'TOTAL_HL30DF', 'TOTAL_VICTIMAS_30DF',\n",
       "       'TOTAL_VEHICULOS', 'TOT_PEAT_MU30DF', 'TOT_BICI_MU30DF',\n",
       "       'TOT_CICLO_MU30DF', 'TOT_MOTO_MU30DF', 'TOT_TUR_MU30DF',\n",
       "       'TOT_FURG_MU30DF', 'TOT_CAM_MAS3500_MU30DF', 'TOT_VMP_MU30DF',\n",
       "       'TOT_OTRO_MU30DF', 'NUDO', 'CONDICION_FIRME', 'CONDICION_ILUMINACION',\n",
       "       'CONDICION_METEO', 'TYP_ACC', 'COMUNIDAD'],\n",
       "      dtype='object')"
      ]
     },
     "execution_count": 113,
     "metadata": {},
     "output_type": "execute_result"
    }
   ],
   "source": [
    "df.columns"
   ]
  },
  {
   "cell_type": "markdown",
   "id": "92865f38",
   "metadata": {},
   "source": [
    "# PREGUNTAS EDA:\n",
    "- Hacer la matrix donde se vean todas las variables, sacar las columnas de cada tipo de fallecido. <font color=\"red\">Carlos</font>\n",
    "- Cual es la distribución de accidentes en meses dias y hora, es decir que meses, días, horas son más peligrosos para conducir? \n",
    "- Existe algún o algunos municipios con un volumen sobresaliente de accidentes? Si no, crear comunidades y probar.\n",
    "- Explorar el total de fallecidos de cada categoría, cuales más cuales menos etc.\n",
    "- Tiene algún impacto la hora del día o el día de la semana sobre el tipo de accidente? Es decir si es por la mañana aumentan las probabilidades de que sea un atropello y si es por la tarde las probabilidades de que sea una colisión por ejemplo.\n",
    "- Promedio victimas por accidente"
   ]
  },
  {
   "cell_type": "markdown",
   "id": "dbce09b9",
   "metadata": {},
   "source": [
    "# Ideas: \n",
    "- Columna comunidad autonoma\n"
   ]
  },
  {
   "cell_type": "markdown",
   "id": "c40a211e",
   "metadata": {},
   "source": [
    "<font color=\"red\">Para poner mensajes en rojo </font>"
   ]
  }
 ],
 "metadata": {
  "kernelspec": {
   "display_name": "base",
   "language": "python",
   "name": "python3"
  },
  "language_info": {
   "codemirror_mode": {
    "name": "ipython",
    "version": 3
   },
   "file_extension": ".py",
   "mimetype": "text/x-python",
   "name": "python",
   "nbconvert_exporter": "python",
   "pygments_lexer": "ipython3",
   "version": "3.12.7"
  }
 },
 "nbformat": 4,
 "nbformat_minor": 5
}
