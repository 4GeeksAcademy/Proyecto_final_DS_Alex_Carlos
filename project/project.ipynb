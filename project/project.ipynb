{
 "cells": [
  {
   "cell_type": "code",
   "execution_count": 1,
   "id": "2989f5db",
   "metadata": {},
   "outputs": [],
   "source": [
    "import pandas as pd\n",
    "import numpy as np"
   ]
  },
  {
   "cell_type": "code",
   "execution_count": 2,
   "id": "73870e59",
   "metadata": {},
   "outputs": [
    {
     "data": {
      "text/html": [
       "<div>\n",
       "<style scoped>\n",
       "    .dataframe tbody tr th:only-of-type {\n",
       "        vertical-align: middle;\n",
       "    }\n",
       "\n",
       "    .dataframe tbody tr th {\n",
       "        vertical-align: top;\n",
       "    }\n",
       "\n",
       "    .dataframe thead th {\n",
       "        text-align: right;\n",
       "    }\n",
       "</style>\n",
       "<table border=\"1\" class=\"dataframe\">\n",
       "  <thead>\n",
       "    <tr style=\"text-align: right;\">\n",
       "      <th></th>\n",
       "      <th>ID_ACCIDENTE</th>\n",
       "      <th>ANYO</th>\n",
       "      <th>MES</th>\n",
       "      <th>DIA_SEMANA</th>\n",
       "      <th>HORA</th>\n",
       "      <th>COD_PROVINCIA</th>\n",
       "      <th>COD_MUNICIPIO</th>\n",
       "      <th>ISLA</th>\n",
       "      <th>ZONA</th>\n",
       "      <th>ZONA_AGRUPADA</th>\n",
       "      <th>...</th>\n",
       "      <th>PRIORI_OTRA</th>\n",
       "      <th>CONDICION_NIVEL_CIRCULA</th>\n",
       "      <th>CONDICION_FIRME</th>\n",
       "      <th>CONDICION_ILUMINACION</th>\n",
       "      <th>CONDICION_METEO</th>\n",
       "      <th>CONDICION_NIEBLA</th>\n",
       "      <th>CONDICION_VIENTO</th>\n",
       "      <th>VISIB_RESTRINGIDA_POR</th>\n",
       "      <th>ACERA</th>\n",
       "      <th>TRAZADO_PLANTA</th>\n",
       "    </tr>\n",
       "  </thead>\n",
       "  <tbody>\n",
       "    <tr>\n",
       "      <th>0</th>\n",
       "      <td>1</td>\n",
       "      <td>2022</td>\n",
       "      <td>1</td>\n",
       "      <td>6</td>\n",
       "      <td>3</td>\n",
       "      <td>1</td>\n",
       "      <td>0</td>\n",
       "      <td>NaN</td>\n",
       "      <td>1</td>\n",
       "      <td>1</td>\n",
       "      <td>...</td>\n",
       "      <td>999</td>\n",
       "      <td>1</td>\n",
       "      <td>1</td>\n",
       "      <td>6</td>\n",
       "      <td>1</td>\n",
       "      <td>NaN</td>\n",
       "      <td>NaN</td>\n",
       "      <td>1</td>\n",
       "      <td>998</td>\n",
       "      <td>3</td>\n",
       "    </tr>\n",
       "    <tr>\n",
       "      <th>1</th>\n",
       "      <td>2</td>\n",
       "      <td>2022</td>\n",
       "      <td>1</td>\n",
       "      <td>5</td>\n",
       "      <td>16</td>\n",
       "      <td>1</td>\n",
       "      <td>1059</td>\n",
       "      <td>NaN</td>\n",
       "      <td>1</td>\n",
       "      <td>1</td>\n",
       "      <td>...</td>\n",
       "      <td>999</td>\n",
       "      <td>1</td>\n",
       "      <td>3</td>\n",
       "      <td>1</td>\n",
       "      <td>3</td>\n",
       "      <td>NaN</td>\n",
       "      <td>NaN</td>\n",
       "      <td>1</td>\n",
       "      <td>998</td>\n",
       "      <td>2</td>\n",
       "    </tr>\n",
       "    <tr>\n",
       "      <th>2</th>\n",
       "      <td>3</td>\n",
       "      <td>2022</td>\n",
       "      <td>1</td>\n",
       "      <td>6</td>\n",
       "      <td>21</td>\n",
       "      <td>1</td>\n",
       "      <td>0</td>\n",
       "      <td>NaN</td>\n",
       "      <td>1</td>\n",
       "      <td>1</td>\n",
       "      <td>...</td>\n",
       "      <td>0</td>\n",
       "      <td>1</td>\n",
       "      <td>1</td>\n",
       "      <td>6</td>\n",
       "      <td>2</td>\n",
       "      <td>NaN</td>\n",
       "      <td>NaN</td>\n",
       "      <td>1</td>\n",
       "      <td>998</td>\n",
       "      <td>2</td>\n",
       "    </tr>\n",
       "    <tr>\n",
       "      <th>3</th>\n",
       "      <td>4</td>\n",
       "      <td>2022</td>\n",
       "      <td>1</td>\n",
       "      <td>7</td>\n",
       "      <td>12</td>\n",
       "      <td>1</td>\n",
       "      <td>0</td>\n",
       "      <td>NaN</td>\n",
       "      <td>1</td>\n",
       "      <td>1</td>\n",
       "      <td>...</td>\n",
       "      <td>999</td>\n",
       "      <td>1</td>\n",
       "      <td>3</td>\n",
       "      <td>1</td>\n",
       "      <td>3</td>\n",
       "      <td>NaN</td>\n",
       "      <td>NaN</td>\n",
       "      <td>1</td>\n",
       "      <td>998</td>\n",
       "      <td>1</td>\n",
       "    </tr>\n",
       "    <tr>\n",
       "      <th>4</th>\n",
       "      <td>5</td>\n",
       "      <td>2022</td>\n",
       "      <td>1</td>\n",
       "      <td>7</td>\n",
       "      <td>12</td>\n",
       "      <td>1</td>\n",
       "      <td>0</td>\n",
       "      <td>NaN</td>\n",
       "      <td>1</td>\n",
       "      <td>1</td>\n",
       "      <td>...</td>\n",
       "      <td>999</td>\n",
       "      <td>1</td>\n",
       "      <td>1</td>\n",
       "      <td>1</td>\n",
       "      <td>1</td>\n",
       "      <td>NaN</td>\n",
       "      <td>NaN</td>\n",
       "      <td>1</td>\n",
       "      <td>998</td>\n",
       "      <td>3</td>\n",
       "    </tr>\n",
       "  </tbody>\n",
       "</table>\n",
       "<p>5 rows × 73 columns</p>\n",
       "</div>"
      ],
      "text/plain": [
       "   ID_ACCIDENTE  ANYO  MES  DIA_SEMANA  HORA  COD_PROVINCIA  COD_MUNICIPIO  \\\n",
       "0             1  2022    1           6     3              1              0   \n",
       "1             2  2022    1           5    16              1           1059   \n",
       "2             3  2022    1           6    21              1              0   \n",
       "3             4  2022    1           7    12              1              0   \n",
       "4             5  2022    1           7    12              1              0   \n",
       "\n",
       "   ISLA  ZONA  ZONA_AGRUPADA  ... PRIORI_OTRA  CONDICION_NIVEL_CIRCULA  \\\n",
       "0   NaN     1              1  ...         999                        1   \n",
       "1   NaN     1              1  ...         999                        1   \n",
       "2   NaN     1              1  ...           0                        1   \n",
       "3   NaN     1              1  ...         999                        1   \n",
       "4   NaN     1              1  ...         999                        1   \n",
       "\n",
       "   CONDICION_FIRME  CONDICION_ILUMINACION  CONDICION_METEO  CONDICION_NIEBLA  \\\n",
       "0                1                      6                1               NaN   \n",
       "1                3                      1                3               NaN   \n",
       "2                1                      6                2               NaN   \n",
       "3                3                      1                3               NaN   \n",
       "4                1                      1                1               NaN   \n",
       "\n",
       "   CONDICION_VIENTO  VISIB_RESTRINGIDA_POR  ACERA  TRAZADO_PLANTA  \n",
       "0               NaN                      1    998               3  \n",
       "1               NaN                      1    998               2  \n",
       "2               NaN                      1    998               2  \n",
       "3               NaN                      1    998               1  \n",
       "4               NaN                      1    998               3  \n",
       "\n",
       "[5 rows x 73 columns]"
      ]
     },
     "execution_count": 2,
     "metadata": {},
     "output_type": "execute_result"
    }
   ],
   "source": [
    "df_raw = pd.read_excel(\"../data/TABLA_ACCIDENTES_22.xlsx\", sheet_name=0) #el excel tiene dos hojas pero solo queremos la primera\n",
    "\n",
    "df_raw.head()"
   ]
  },
  {
   "cell_type": "code",
   "execution_count": 3,
   "id": "cf61e02b",
   "metadata": {},
   "outputs": [],
   "source": [
    "#Esto es solo para no tener que cargar el dataframe cada vez que nos equivoquemos en algo, con ejecutar esta línea vale\n",
    "df = df_raw"
   ]
  },
  {
   "cell_type": "code",
   "execution_count": 4,
   "id": "b5b0cc49",
   "metadata": {},
   "outputs": [
    {
     "data": {
      "text/plain": [
       "(97916, 73)"
      ]
     },
     "execution_count": 4,
     "metadata": {},
     "output_type": "execute_result"
    }
   ],
   "source": [
    "df.shape"
   ]
  },
  {
   "cell_type": "markdown",
   "id": "f78f7ad2",
   "metadata": {},
   "source": [
    "El Dataframe del que se parte contiene 97916 filas (registros) y 17 columnas (datos distintos)"
   ]
  },
  {
   "cell_type": "code",
   "execution_count": 5,
   "id": "bb909120",
   "metadata": {},
   "outputs": [
    {
     "data": {
      "text/plain": [
       "np.int64(0)"
      ]
     },
     "execution_count": 5,
     "metadata": {},
     "output_type": "execute_result"
    }
   ],
   "source": [
    "df.duplicated().sum()"
   ]
  },
  {
   "cell_type": "markdown",
   "id": "4bcce5fb",
   "metadata": {},
   "source": [
    "No hay filas duplicadas en el Dataset"
   ]
  },
  {
   "cell_type": "code",
   "execution_count": 6,
   "id": "5c2c82e1",
   "metadata": {},
   "outputs": [
    {
     "data": {
      "text/plain": [
       "Index(['ID_ACCIDENTE', 'ANYO', 'MES', 'DIA_SEMANA', 'HORA', 'COD_PROVINCIA',\n",
       "       'COD_MUNICIPIO', 'ISLA', 'ZONA', 'ZONA_AGRUPADA', 'CARRETERA', 'KM',\n",
       "       'SENTIDO_1F', 'TITULARIDAD_VIA', 'TIPO_VIA', 'TIPO_ACCIDENTE',\n",
       "       'TOTAL_MU24H', 'TOTAL_HG24H', 'TOTAL_HL24H', 'TOTAL_VICTIMAS_24H',\n",
       "       'TOTAL_MU30DF', 'TOTAL_HG30DF', 'TOTAL_HL30DF', 'TOTAL_VICTIMAS_30DF',\n",
       "       'TOTAL_VEHICULOS', 'TOT_PEAT_MU24H', 'TOT_BICI_MU24H',\n",
       "       'TOT_CICLO_MU24H', 'TOT_MOTO_MU24H', 'TOT_TUR_MU24H', 'TOT_FURG_MU24H',\n",
       "       'TOT_CAM_MENOS3500_MU24H', 'TOT_CAM_MAS3500_MU24H', 'TOT_BUS_MU24H',\n",
       "       'TOT_OTRO_MU24H', 'TOT_SINESPECIF_MU24H', 'TOT_PEAT_MU30DF',\n",
       "       'TOT_BICI_MU30DF', 'TOT_CICLO_MU30DF', 'TOT_MOTO_MU30DF',\n",
       "       'TOT_TUR_MU30DF', 'TOT_FURG_MU30DF', 'TOT_CAM_MENOS3500_MU30DF',\n",
       "       'TOT_CAM_MAS3500_MU30DF', 'TOT_BUS_MU30DF', 'TOT_VMP_MU30DF',\n",
       "       'TOT_OTRO_MU30DF', 'TOT_SINESPECIF_MU30DF', 'NUDO', 'NUDO_INFO',\n",
       "       'CARRETERA_CRUCE', 'PRIORI_NORMA', 'PRIORI_AGENTE', 'PRIORI_SEMAFORO',\n",
       "       'PRIORI_VERT_STOP', 'PRIORI_VERT_CEDA', 'PRIORI_HORIZ_STOP',\n",
       "       'PRIORI_HORIZ_CEDA', 'PRIORI_MARCAS', 'PRIORI_PEA_NO_ELEV',\n",
       "       'PRIORI_PEA_ELEV', 'PRIORI_MARCA_CICLOS', 'PRIORI_CIRCUNSTANCIAL',\n",
       "       'PRIORI_OTRA', 'CONDICION_NIVEL_CIRCULA', 'CONDICION_FIRME',\n",
       "       'CONDICION_ILUMINACION', 'CONDICION_METEO', 'CONDICION_NIEBLA',\n",
       "       'CONDICION_VIENTO', 'VISIB_RESTRINGIDA_POR', 'ACERA', 'TRAZADO_PLANTA'],\n",
       "      dtype='object')"
      ]
     },
     "execution_count": 6,
     "metadata": {},
     "output_type": "execute_result"
    }
   ],
   "source": [
    "df.columns"
   ]
  },
  {
   "cell_type": "markdown",
   "id": "afbb206d",
   "metadata": {},
   "source": [
    "Hay hasta 31 columnas indicando la gravedad del accidente, por lo que lo primero que haremos será agruparlas todas en una donde tan solo se indique la gravedad como leve, grave o mortal.\n",
    "\n",
    "Lo primero para ello es entender nuestros datos, por ejemplo: \n",
    "    \n",
    "    ¿La columna que indica el número de fallecidos computados a 30 días integra los fallecidos computados a 24 horas o son independientes?\n",
    "    ¿La columna que indica el número de fallecidos computados a 30 días integra las victimas computadas a 24 horas o son independientes?"
   ]
  },
  {
   "cell_type": "code",
   "execution_count": 7,
   "id": "094bf404",
   "metadata": {},
   "outputs": [
    {
     "name": "stdout",
     "output_type": "stream",
     "text": [
      "Total de fallecidos registrados en el accidente computados a 24 horas mas que computados a 30 días es: 0 fallecidos \n",
      "\n",
      "Total de víctimas registrados en el accidente computados a 24 horas mas que computados a 30 días es: 0 victimas\n"
     ]
    }
   ],
   "source": [
    "print(f\"Total de fallecidos registrados en el accidente computados a 24 horas mas que computados a 30 días es: {df.loc[df['TOTAL_MU24H'] > df['TOTAL_MU30DF']].shape[0]} fallecidos \\n\")\n",
    "\n",
    "print(f\"Total de víctimas registrados en el accidente computados a 24 horas mas que computados a 30 días es: {df.loc[df['TOTAL_VICTIMAS_24H'] > df['TOTAL_VICTIMAS_30DF']].shape[0]} victimas\")"
   ]
  },
  {
   "cell_type": "markdown",
   "id": "f7ca7ce0",
   "metadata": {},
   "source": [
    "No existe ningun accidente con más fallecidos ni victimas computadas a 24 horas que a 30 días, se asume por tanto, que el registro computado a 30 días ya incluye el de 24 horas.. \n",
    "\n",
    "\n",
    "No vamos a eliminar el resto de columnas sobre fallecidos ya que aunque no se vayan a incluir en nuestro modelo pueden ser interesantes para analizar estadísticas."
   ]
  },
  {
   "cell_type": "markdown",
   "id": "f0170044",
   "metadata": {},
   "source": [
    "Otra cuestión parecida a la anterior es si el número de heridos hospitalizados incluye también a los que acabaron muriendo. Este problema es más complicado, ya que si una víctima es hospitalizada y acaba muriendo en los 30 días posteriores es posible que cuente dentro de los dos grupos, no obstante dado que el total de victimas se calcula con la suma de fallecidos, hospitalizados y no hospitalizados, en teoría si alguien acaba falleciendo en el hospital no debería contar como victima hospitalizada ya que sino al hacer la suma estarían contando doble las victimas en estos casos, pero vamos a comprobarlo."
   ]
  },
  {
   "cell_type": "code",
   "execution_count": 8,
   "id": "f7013fe1",
   "metadata": {},
   "outputs": [
    {
     "data": {
      "text/html": [
       "<div>\n",
       "<style scoped>\n",
       "    .dataframe tbody tr th:only-of-type {\n",
       "        vertical-align: middle;\n",
       "    }\n",
       "\n",
       "    .dataframe tbody tr th {\n",
       "        vertical-align: top;\n",
       "    }\n",
       "\n",
       "    .dataframe thead th {\n",
       "        text-align: right;\n",
       "    }\n",
       "</style>\n",
       "<table border=\"1\" class=\"dataframe\">\n",
       "  <thead>\n",
       "    <tr style=\"text-align: right;\">\n",
       "      <th></th>\n",
       "      <th>TOTAL_MU24H</th>\n",
       "      <th>TOTAL_MU30DF</th>\n",
       "      <th>TOTAL_HG24H</th>\n",
       "      <th>TOTAL_HG30DF</th>\n",
       "    </tr>\n",
       "  </thead>\n",
       "  <tbody>\n",
       "    <tr>\n",
       "      <th>16</th>\n",
       "      <td>1</td>\n",
       "      <td>1</td>\n",
       "      <td>0</td>\n",
       "      <td>0</td>\n",
       "    </tr>\n",
       "    <tr>\n",
       "      <th>133</th>\n",
       "      <td>1</td>\n",
       "      <td>1</td>\n",
       "      <td>0</td>\n",
       "      <td>0</td>\n",
       "    </tr>\n",
       "    <tr>\n",
       "      <th>196</th>\n",
       "      <td>1</td>\n",
       "      <td>1</td>\n",
       "      <td>0</td>\n",
       "      <td>0</td>\n",
       "    </tr>\n",
       "    <tr>\n",
       "      <th>324</th>\n",
       "      <td>0</td>\n",
       "      <td>1</td>\n",
       "      <td>1</td>\n",
       "      <td>0</td>\n",
       "    </tr>\n",
       "    <tr>\n",
       "      <th>446</th>\n",
       "      <td>2</td>\n",
       "      <td>2</td>\n",
       "      <td>0</td>\n",
       "      <td>0</td>\n",
       "    </tr>\n",
       "    <tr>\n",
       "      <th>...</th>\n",
       "      <td>...</td>\n",
       "      <td>...</td>\n",
       "      <td>...</td>\n",
       "      <td>...</td>\n",
       "    </tr>\n",
       "    <tr>\n",
       "      <th>97610</th>\n",
       "      <td>1</td>\n",
       "      <td>1</td>\n",
       "      <td>0</td>\n",
       "      <td>0</td>\n",
       "    </tr>\n",
       "    <tr>\n",
       "      <th>97619</th>\n",
       "      <td>1</td>\n",
       "      <td>1</td>\n",
       "      <td>0</td>\n",
       "      <td>0</td>\n",
       "    </tr>\n",
       "    <tr>\n",
       "      <th>97622</th>\n",
       "      <td>1</td>\n",
       "      <td>1</td>\n",
       "      <td>0</td>\n",
       "      <td>0</td>\n",
       "    </tr>\n",
       "    <tr>\n",
       "      <th>97646</th>\n",
       "      <td>0</td>\n",
       "      <td>1</td>\n",
       "      <td>1</td>\n",
       "      <td>0</td>\n",
       "    </tr>\n",
       "    <tr>\n",
       "      <th>97712</th>\n",
       "      <td>0</td>\n",
       "      <td>1</td>\n",
       "      <td>1</td>\n",
       "      <td>0</td>\n",
       "    </tr>\n",
       "  </tbody>\n",
       "</table>\n",
       "<p>1351 rows × 4 columns</p>\n",
       "</div>"
      ],
      "text/plain": [
       "       TOTAL_MU24H  TOTAL_MU30DF  TOTAL_HG24H  TOTAL_HG30DF\n",
       "16               1             1            0             0\n",
       "133              1             1            0             0\n",
       "196              1             1            0             0\n",
       "324              0             1            1             0\n",
       "446              2             2            0             0\n",
       "...            ...           ...          ...           ...\n",
       "97610            1             1            0             0\n",
       "97619            1             1            0             0\n",
       "97622            1             1            0             0\n",
       "97646            0             1            1             0\n",
       "97712            0             1            1             0\n",
       "\n",
       "[1351 rows x 4 columns]"
      ]
     },
     "execution_count": 8,
     "metadata": {},
     "output_type": "execute_result"
    }
   ],
   "source": [
    "df[['TOTAL_MU24H','TOTAL_MU30DF','TOTAL_HG24H','TOTAL_HG30DF']].loc[df['TOTAL_MU30DF'] > df['TOTAL_HG30DF']]"
   ]
  },
  {
   "cell_type": "markdown",
   "id": "4b2f3c88",
   "metadata": {},
   "source": [
    "Como se puede comprobar hay columnas en las que el número de fallecidos en 30 días supera al de ingresados en el mismo periodo, aunque pudiera ser que fallecieron fuera sin ser ingresados. \n",
    "\n",
    "Pero filas como la 16 donde hay dos víctimas, y una falleció en 24 horas y la otra en los 30 días indican que en efecto la columna de fallecidos es independiente de la de hospitalizados en el mismo periodo."
   ]
  },
  {
   "cell_type": "code",
   "execution_count": 9,
   "id": "6b12bb37",
   "metadata": {},
   "outputs": [
    {
     "data": {
      "text/html": [
       "<div>\n",
       "<style scoped>\n",
       "    .dataframe tbody tr th:only-of-type {\n",
       "        vertical-align: middle;\n",
       "    }\n",
       "\n",
       "    .dataframe tbody tr th {\n",
       "        vertical-align: top;\n",
       "    }\n",
       "\n",
       "    .dataframe thead th {\n",
       "        text-align: right;\n",
       "    }\n",
       "</style>\n",
       "<table border=\"1\" class=\"dataframe\">\n",
       "  <thead>\n",
       "    <tr style=\"text-align: right;\">\n",
       "      <th></th>\n",
       "      <th>TOTAL_MU24H</th>\n",
       "      <th>TOTAL_MU30DF</th>\n",
       "      <th>TOTAL_HG24H</th>\n",
       "      <th>TOTAL_HG30DF</th>\n",
       "      <th>TOTAL_HL24H</th>\n",
       "      <th>TOTAL_HL30DF</th>\n",
       "      <th>TOTAL_VICTIMAS_24H</th>\n",
       "      <th>TOTAL_VICTIMAS_30DF</th>\n",
       "    </tr>\n",
       "  </thead>\n",
       "  <tbody>\n",
       "    <tr>\n",
       "      <th>324</th>\n",
       "      <td>0</td>\n",
       "      <td>1</td>\n",
       "      <td>1</td>\n",
       "      <td>0</td>\n",
       "      <td>0</td>\n",
       "      <td>0</td>\n",
       "      <td>1</td>\n",
       "      <td>1</td>\n",
       "    </tr>\n",
       "    <tr>\n",
       "      <th>605</th>\n",
       "      <td>0</td>\n",
       "      <td>1</td>\n",
       "      <td>1</td>\n",
       "      <td>0</td>\n",
       "      <td>0</td>\n",
       "      <td>0</td>\n",
       "      <td>1</td>\n",
       "      <td>1</td>\n",
       "    </tr>\n",
       "    <tr>\n",
       "      <th>620</th>\n",
       "      <td>0</td>\n",
       "      <td>1</td>\n",
       "      <td>4</td>\n",
       "      <td>3</td>\n",
       "      <td>0</td>\n",
       "      <td>0</td>\n",
       "      <td>4</td>\n",
       "      <td>4</td>\n",
       "    </tr>\n",
       "    <tr>\n",
       "      <th>1568</th>\n",
       "      <td>0</td>\n",
       "      <td>1</td>\n",
       "      <td>1</td>\n",
       "      <td>0</td>\n",
       "      <td>2</td>\n",
       "      <td>2</td>\n",
       "      <td>3</td>\n",
       "      <td>3</td>\n",
       "    </tr>\n",
       "    <tr>\n",
       "      <th>1763</th>\n",
       "      <td>0</td>\n",
       "      <td>1</td>\n",
       "      <td>1</td>\n",
       "      <td>0</td>\n",
       "      <td>0</td>\n",
       "      <td>0</td>\n",
       "      <td>1</td>\n",
       "      <td>1</td>\n",
       "    </tr>\n",
       "    <tr>\n",
       "      <th>...</th>\n",
       "      <td>...</td>\n",
       "      <td>...</td>\n",
       "      <td>...</td>\n",
       "      <td>...</td>\n",
       "      <td>...</td>\n",
       "      <td>...</td>\n",
       "      <td>...</td>\n",
       "      <td>...</td>\n",
       "    </tr>\n",
       "    <tr>\n",
       "      <th>97226</th>\n",
       "      <td>0</td>\n",
       "      <td>1</td>\n",
       "      <td>1</td>\n",
       "      <td>0</td>\n",
       "      <td>0</td>\n",
       "      <td>0</td>\n",
       "      <td>1</td>\n",
       "      <td>1</td>\n",
       "    </tr>\n",
       "    <tr>\n",
       "      <th>97229</th>\n",
       "      <td>0</td>\n",
       "      <td>1</td>\n",
       "      <td>1</td>\n",
       "      <td>0</td>\n",
       "      <td>0</td>\n",
       "      <td>0</td>\n",
       "      <td>1</td>\n",
       "      <td>1</td>\n",
       "    </tr>\n",
       "    <tr>\n",
       "      <th>97506</th>\n",
       "      <td>0</td>\n",
       "      <td>1</td>\n",
       "      <td>1</td>\n",
       "      <td>0</td>\n",
       "      <td>0</td>\n",
       "      <td>0</td>\n",
       "      <td>1</td>\n",
       "      <td>1</td>\n",
       "    </tr>\n",
       "    <tr>\n",
       "      <th>97646</th>\n",
       "      <td>0</td>\n",
       "      <td>1</td>\n",
       "      <td>1</td>\n",
       "      <td>0</td>\n",
       "      <td>0</td>\n",
       "      <td>0</td>\n",
       "      <td>1</td>\n",
       "      <td>1</td>\n",
       "    </tr>\n",
       "    <tr>\n",
       "      <th>97712</th>\n",
       "      <td>0</td>\n",
       "      <td>1</td>\n",
       "      <td>1</td>\n",
       "      <td>0</td>\n",
       "      <td>0</td>\n",
       "      <td>0</td>\n",
       "      <td>1</td>\n",
       "      <td>1</td>\n",
       "    </tr>\n",
       "  </tbody>\n",
       "</table>\n",
       "<p>232 rows × 8 columns</p>\n",
       "</div>"
      ],
      "text/plain": [
       "       TOTAL_MU24H  TOTAL_MU30DF  TOTAL_HG24H  TOTAL_HG30DF  TOTAL_HL24H  \\\n",
       "324              0             1            1             0            0   \n",
       "605              0             1            1             0            0   \n",
       "620              0             1            4             3            0   \n",
       "1568             0             1            1             0            2   \n",
       "1763             0             1            1             0            0   \n",
       "...            ...           ...          ...           ...          ...   \n",
       "97226            0             1            1             0            0   \n",
       "97229            0             1            1             0            0   \n",
       "97506            0             1            1             0            0   \n",
       "97646            0             1            1             0            0   \n",
       "97712            0             1            1             0            0   \n",
       "\n",
       "       TOTAL_HL30DF  TOTAL_VICTIMAS_24H  TOTAL_VICTIMAS_30DF  \n",
       "324               0                   1                    1  \n",
       "605               0                   1                    1  \n",
       "620               0                   4                    4  \n",
       "1568              2                   3                    3  \n",
       "1763              0                   1                    1  \n",
       "...             ...                 ...                  ...  \n",
       "97226             0                   1                    1  \n",
       "97229             0                   1                    1  \n",
       "97506             0                   1                    1  \n",
       "97646             0                   1                    1  \n",
       "97712             0                   1                    1  \n",
       "\n",
       "[232 rows x 8 columns]"
      ]
     },
     "execution_count": 9,
     "metadata": {},
     "output_type": "execute_result"
    }
   ],
   "source": [
    "#más hospitalizados en 24 horas que en 30 días\n",
    "df[['TOTAL_MU24H','TOTAL_MU30DF','TOTAL_HG24H', 'TOTAL_HG30DF','TOTAL_HL24H','TOTAL_HL30DF','TOTAL_VICTIMAS_24H','TOTAL_VICTIMAS_30DF']].loc[df['TOTAL_HG24H'] > df['TOTAL_HG30DF']]"
   ]
  },
  {
   "cell_type": "markdown",
   "id": "dd67ba75",
   "metadata": {},
   "source": [
    "Es curioso que si que haya algunos casos donde hay más hospitalizados en 24 horas que en 30 días, por lo que a priori parece que en este caso estár hospitalizado en las primeras 24 horas no implica contar como que estuviste hospitalizado en los 30 días posteriores, no obstante hay algunas incoherencias:\n",
    "- En todos los casos hubo un fallecido en 30 días y ninguno en 24 horas (Cuando solo era una victima)\n",
    "- Si estuvo hospitalizado menos de 24 horas y no falleció en esas horas cabría pensar que se trata de un accidente leve, pero solo hay 232 casos cuando los accidentes leves deberían ser mayoritarios, además falleció en los siguientes 30 días lo que indica que fue un accidente mortal.\n",
    "\n",
    "Teoría: Como hemos mencionado anteriormente alguien fallecido en 30 días no será incluido en la columna de hospitalizados en ese periodo ya que generaría un conteo doble en el total de víctimas, no obstante, si será incluido en los hospitalizados en 24 horas ya que eso no genera ningúna incoherencia. Por tanto, los casos que observamos en la tabla anterior son casos donde la victima del accidente fue llevada al hospital de inmediato (Hospitalizado 24 horas), no falleció en las primeras 24 horas pero sí falleció en los siguientes días y lo sacaron de la lista de hospitalizados en 30 días. En estos casos la víctima nunca fallece en las primeras 24 horas porque de hacerlo se le sacaría del número de hospitalizados en ese periodo (y en el siguiente también ya que contaría como fallecido).\n",
    "\n",
    "Vamos a confirmar esta teoría, para ello se tienen que dar varias condiciones, que son:\n",
    "- 1º Si el número de fallecidos en 24 horas es 0 y el número de fallecidos en 30 días es igual al de ingresados en 24 horas y mayor a 0, el número de ingresados en 30 días nunca podrá ser ni igual ni mayor al de fallecidos en 30 días."
   ]
  },
  {
   "cell_type": "code",
   "execution_count": 10,
   "id": "5951371b",
   "metadata": {},
   "outputs": [
    {
     "name": "stdout",
     "output_type": "stream",
     "text": [
      "Casos que no cumplen la primera condición: 0 casos\n"
     ]
    }
   ],
   "source": [
    "# 1º Condición\n",
    "print(f\"Casos que no cumplen la primera condición: {df[['TOTAL_MU24H','TOTAL_MU30DF','TOTAL_HG24H', 'TOTAL_HG30DF','TOTAL_VICTIMAS_24H',\n",
    "       'TOTAL_VICTIMAS_30DF','TOTAL_HL24H','TOTAL_HL30DF']].loc[(df['TOTAL_MU24H'] == 0) & (df['TOTAL_MU30DF']==df['TOTAL_HG24H']) & (df['TOTAL_MU30DF']>0) & (df['TOTAL_HG30DF']>=df['TOTAL_MU30DF'])].shape[0]} casos\")\n"
   ]
  },
  {
   "cell_type": "markdown",
   "id": "d80c5fcd",
   "metadata": {},
   "source": [
    "- 2º En los casos donde el número de fallecidos computados a 24 horas y 30 días sea el mismo, y el número de ingresados computados a 24 horas y 30 días también lo sea, serán siempre casos en donde hubo más de una víctima (al menos una que falleció y una que sobrevivió)"
   ]
  },
  {
   "cell_type": "code",
   "execution_count": 11,
   "id": "fe11a64e",
   "metadata": {},
   "outputs": [
    {
     "data": {
      "text/html": [
       "<div>\n",
       "<style scoped>\n",
       "    .dataframe tbody tr th:only-of-type {\n",
       "        vertical-align: middle;\n",
       "    }\n",
       "\n",
       "    .dataframe tbody tr th {\n",
       "        vertical-align: top;\n",
       "    }\n",
       "\n",
       "    .dataframe thead th {\n",
       "        text-align: right;\n",
       "    }\n",
       "</style>\n",
       "<table border=\"1\" class=\"dataframe\">\n",
       "  <thead>\n",
       "    <tr style=\"text-align: right;\">\n",
       "      <th></th>\n",
       "      <th>TOTAL_MU24H</th>\n",
       "      <th>TOTAL_MU30DF</th>\n",
       "      <th>TOTAL_HG24H</th>\n",
       "      <th>TOTAL_HG30DF</th>\n",
       "      <th>TOTAL_VICTIMAS_30DF</th>\n",
       "    </tr>\n",
       "  </thead>\n",
       "  <tbody>\n",
       "    <tr>\n",
       "      <th>975</th>\n",
       "      <td>1</td>\n",
       "      <td>1</td>\n",
       "      <td>1</td>\n",
       "      <td>1</td>\n",
       "      <td>2</td>\n",
       "    </tr>\n",
       "    <tr>\n",
       "      <th>1303</th>\n",
       "      <td>1</td>\n",
       "      <td>1</td>\n",
       "      <td>1</td>\n",
       "      <td>1</td>\n",
       "      <td>2</td>\n",
       "    </tr>\n",
       "    <tr>\n",
       "      <th>1324</th>\n",
       "      <td>1</td>\n",
       "      <td>1</td>\n",
       "      <td>1</td>\n",
       "      <td>1</td>\n",
       "      <td>2</td>\n",
       "    </tr>\n",
       "    <tr>\n",
       "      <th>1332</th>\n",
       "      <td>1</td>\n",
       "      <td>1</td>\n",
       "      <td>1</td>\n",
       "      <td>1</td>\n",
       "      <td>2</td>\n",
       "    </tr>\n",
       "    <tr>\n",
       "      <th>1379</th>\n",
       "      <td>1</td>\n",
       "      <td>1</td>\n",
       "      <td>1</td>\n",
       "      <td>1</td>\n",
       "      <td>2</td>\n",
       "    </tr>\n",
       "    <tr>\n",
       "      <th>...</th>\n",
       "      <td>...</td>\n",
       "      <td>...</td>\n",
       "      <td>...</td>\n",
       "      <td>...</td>\n",
       "      <td>...</td>\n",
       "    </tr>\n",
       "    <tr>\n",
       "      <th>93982</th>\n",
       "      <td>1</td>\n",
       "      <td>1</td>\n",
       "      <td>1</td>\n",
       "      <td>1</td>\n",
       "      <td>2</td>\n",
       "    </tr>\n",
       "    <tr>\n",
       "      <th>94088</th>\n",
       "      <td>1</td>\n",
       "      <td>1</td>\n",
       "      <td>1</td>\n",
       "      <td>1</td>\n",
       "      <td>4</td>\n",
       "    </tr>\n",
       "    <tr>\n",
       "      <th>94451</th>\n",
       "      <td>1</td>\n",
       "      <td>1</td>\n",
       "      <td>1</td>\n",
       "      <td>1</td>\n",
       "      <td>2</td>\n",
       "    </tr>\n",
       "    <tr>\n",
       "      <th>97596</th>\n",
       "      <td>1</td>\n",
       "      <td>1</td>\n",
       "      <td>1</td>\n",
       "      <td>1</td>\n",
       "      <td>2</td>\n",
       "    </tr>\n",
       "    <tr>\n",
       "      <th>97787</th>\n",
       "      <td>1</td>\n",
       "      <td>1</td>\n",
       "      <td>1</td>\n",
       "      <td>1</td>\n",
       "      <td>3</td>\n",
       "    </tr>\n",
       "  </tbody>\n",
       "</table>\n",
       "<p>159 rows × 5 columns</p>\n",
       "</div>"
      ],
      "text/plain": [
       "       TOTAL_MU24H  TOTAL_MU30DF  TOTAL_HG24H  TOTAL_HG30DF  \\\n",
       "975              1             1            1             1   \n",
       "1303             1             1            1             1   \n",
       "1324             1             1            1             1   \n",
       "1332             1             1            1             1   \n",
       "1379             1             1            1             1   \n",
       "...            ...           ...          ...           ...   \n",
       "93982            1             1            1             1   \n",
       "94088            1             1            1             1   \n",
       "94451            1             1            1             1   \n",
       "97596            1             1            1             1   \n",
       "97787            1             1            1             1   \n",
       "\n",
       "       TOTAL_VICTIMAS_30DF  \n",
       "975                      2  \n",
       "1303                     2  \n",
       "1324                     2  \n",
       "1332                     2  \n",
       "1379                     2  \n",
       "...                    ...  \n",
       "93982                    2  \n",
       "94088                    4  \n",
       "94451                    2  \n",
       "97596                    2  \n",
       "97787                    3  \n",
       "\n",
       "[159 rows x 5 columns]"
      ]
     },
     "execution_count": 11,
     "metadata": {},
     "output_type": "execute_result"
    }
   ],
   "source": [
    "#2º Condición\n",
    "df[['TOTAL_MU24H','TOTAL_MU30DF','TOTAL_HG24H', 'TOTAL_HG30DF',\n",
    "       'TOTAL_VICTIMAS_30DF']].loc[(df['TOTAL_MU24H'] == df['TOTAL_MU30DF']) & (df['TOTAL_HG24H']==df['TOTAL_MU30DF']) & (df['TOTAL_HG24H']==1)]\n"
   ]
  },
  {
   "cell_type": "markdown",
   "id": "931e6e01",
   "metadata": {},
   "source": [
    "- 3º El total de víctimas en computados a 24 horas y computados a 30 días siempre será el mismo."
   ]
  },
  {
   "cell_type": "code",
   "execution_count": 12,
   "id": "538666ef",
   "metadata": {},
   "outputs": [
    {
     "name": "stdout",
     "output_type": "stream",
     "text": [
      "Número de víctimas registradas computadas a 24 horas diferentes a computadas a 30 días: 0 victimas\n"
     ]
    }
   ],
   "source": [
    "#3º Condición\n",
    "print(f\"Número de víctimas registradas computadas a 24 horas diferentes a computadas a 30 días: {df.loc[df['TOTAL_VICTIMAS_24H'] != df['TOTAL_VICTIMAS_30DF']].shape[0]} victimas\")"
   ]
  },
  {
   "cell_type": "markdown",
   "id": "249b75d6",
   "metadata": {},
   "source": [
    "Todas las condiciones se han cumplido, por lo que parece que la teoría planteada era correcta. Además se termina de concluir que los registros computados a 30 días incluyen los computados a 24 horas."
   ]
  },
  {
   "cell_type": "code",
   "execution_count": 13,
   "id": "01da5481",
   "metadata": {},
   "outputs": [
    {
     "data": {
      "text/html": [
       "<div>\n",
       "<style scoped>\n",
       "    .dataframe tbody tr th:only-of-type {\n",
       "        vertical-align: middle;\n",
       "    }\n",
       "\n",
       "    .dataframe tbody tr th {\n",
       "        vertical-align: top;\n",
       "    }\n",
       "\n",
       "    .dataframe thead th {\n",
       "        text-align: right;\n",
       "    }\n",
       "</style>\n",
       "<table border=\"1\" class=\"dataframe\">\n",
       "  <thead>\n",
       "    <tr style=\"text-align: right;\">\n",
       "      <th></th>\n",
       "      <th>TOTAL_MU30DF</th>\n",
       "      <th>TOTAL_HG30DF</th>\n",
       "      <th>TOTAL_HL30DF</th>\n",
       "      <th>TOTAL_VICTIMAS_30DF</th>\n",
       "    </tr>\n",
       "  </thead>\n",
       "  <tbody>\n",
       "    <tr>\n",
       "      <th>12034</th>\n",
       "      <td>2</td>\n",
       "      <td>2</td>\n",
       "      <td>2</td>\n",
       "      <td>6</td>\n",
       "    </tr>\n",
       "    <tr>\n",
       "      <th>12851</th>\n",
       "      <td>2</td>\n",
       "      <td>2</td>\n",
       "      <td>0</td>\n",
       "      <td>4</td>\n",
       "    </tr>\n",
       "    <tr>\n",
       "      <th>29576</th>\n",
       "      <td>2</td>\n",
       "      <td>2</td>\n",
       "      <td>6</td>\n",
       "      <td>10</td>\n",
       "    </tr>\n",
       "    <tr>\n",
       "      <th>30031</th>\n",
       "      <td>2</td>\n",
       "      <td>2</td>\n",
       "      <td>2</td>\n",
       "      <td>6</td>\n",
       "    </tr>\n",
       "    <tr>\n",
       "      <th>31432</th>\n",
       "      <td>3</td>\n",
       "      <td>3</td>\n",
       "      <td>0</td>\n",
       "      <td>6</td>\n",
       "    </tr>\n",
       "    <tr>\n",
       "      <th>83079</th>\n",
       "      <td>2</td>\n",
       "      <td>2</td>\n",
       "      <td>0</td>\n",
       "      <td>4</td>\n",
       "    </tr>\n",
       "    <tr>\n",
       "      <th>88434</th>\n",
       "      <td>2</td>\n",
       "      <td>2</td>\n",
       "      <td>6</td>\n",
       "      <td>10</td>\n",
       "    </tr>\n",
       "    <tr>\n",
       "      <th>91138</th>\n",
       "      <td>2</td>\n",
       "      <td>2</td>\n",
       "      <td>0</td>\n",
       "      <td>4</td>\n",
       "    </tr>\n",
       "  </tbody>\n",
       "</table>\n",
       "</div>"
      ],
      "text/plain": [
       "       TOTAL_MU30DF  TOTAL_HG30DF  TOTAL_HL30DF  TOTAL_VICTIMAS_30DF\n",
       "12034             2             2             2                    6\n",
       "12851             2             2             0                    4\n",
       "29576             2             2             6                   10\n",
       "30031             2             2             2                    6\n",
       "31432             3             3             0                    6\n",
       "83079             2             2             0                    4\n",
       "88434             2             2             6                   10\n",
       "91138             2             2             0                    4"
      ]
     },
     "execution_count": 13,
     "metadata": {},
     "output_type": "execute_result"
    }
   ],
   "source": [
    "# ALEX: Este creo que no aporta nada pero lo he dejado por si opinas lo contrario, si estás de acuerdo bórralo\n",
    "df[['TOTAL_MU30DF','TOTAL_HG30DF','TOTAL_HL30DF','TOTAL_VICTIMAS_30DF']].loc[(df['TOTAL_MU30DF'] == df['TOTAL_HG30DF']) & (df['TOTAL_MU30DF'] > 1)]"
   ]
  },
  {
   "cell_type": "code",
   "execution_count": 14,
   "id": "eac4d7fa",
   "metadata": {},
   "outputs": [],
   "source": [
    "#Aquí habría que ver si borramos la de no hospitalizados en 24 horas, nos sirve de algo?\n",
    "df = df.drop(['TOTAL_MU24H','TOTAL_VICTIMAS_24H'], axis=1)"
   ]
  },
  {
   "cell_type": "markdown",
   "id": "8a364038",
   "metadata": {},
   "source": [
    "Diferenciaremos entre tres tipos de accidentes: Mortal, leve y sin lesiones. Ya que en el dataset no se indica el tipo de lesión vamos a establecer el siguiente criterio:\n",
    "\n",
    "- Mortal = La víctima fallece (en cualquier periodo).\n",
    "- Leve = Fue al hospital\n",
    "- Sin lesiones = No fue al hospital"
   ]
  },
  {
   "cell_type": "markdown",
   "id": "d6f655b7",
   "metadata": {},
   "source": [
    "Se establece la columna tipo de accidente en función de la prioridad:\n",
    "\n",
    "        Si hay una victima mortal, el accidente se clasifica como  'Mortal'\n",
    "        Si no hay ningun accidente mortal pero si ha sigo ingresado el accidente se clasifica como 'Leve'\n",
    "        Si no hay ningun accidente mortal ni nadie ha sido ingresado el accidente se clasifica como 'Sin_lesiones'"
   ]
  },
  {
   "cell_type": "code",
   "execution_count": 15,
   "id": "f4ce8501",
   "metadata": {},
   "outputs": [],
   "source": [
    "\n",
    "def clasificar_accidentes(column):\n",
    "    if column['TOTAL_MU30DF'] > 0:\n",
    "        return 'Mortal'\n",
    "    elif column['TOTAL_HG30DF'] > 0 & column['TOTAL_MU30DF'] == 0: \n",
    "        return 'Leve'\n",
    "    else: \n",
    "        return 'Sin_lesiones'\n",
    "\n",
    "df['TYP_ACC'] = df.apply(clasificar_accidentes, axis=1) # Crear la columna TYP_ACC basada en las condicione\n",
    "\n"
   ]
  },
  {
   "cell_type": "markdown",
   "id": "ed7e25a6",
   "metadata": {},
   "source": [
    "Se contabiliza el número de accidentes mortales, leves y sin lesiones que hay en el dataset"
   ]
  },
  {
   "cell_type": "code",
   "execution_count": 16,
   "id": "003025c3",
   "metadata": {},
   "outputs": [
    {
     "name": "stdout",
     "output_type": "stream",
     "text": [
      "El numero de accidentes mortales es 1620 un 1.65% del total de accidentes\n",
      "\n",
      "El número de accidentes leves es 7410 un 7.57% del total de accidentes \n",
      "\n",
      "El número de accidentes sin lesiones es 88886 un 90.78% del total de accidentes\n"
     ]
    }
   ],
   "source": [
    "cont_mortales = 0\n",
    "cont_leves = 0\n",
    "cont_sin_lesiones = 0\n",
    "\n",
    "for i in df['TYP_ACC']:\n",
    "    if i == \"Mortal\":\n",
    "        cont_mortales += 1\n",
    "    elif i == \"Leve\":\n",
    "        cont_leves += 1\n",
    "    else:\n",
    "        cont_sin_lesiones +=1\n",
    "\n",
    "total_accidentes = cont_mortales + cont_leves + cont_sin_lesiones\n",
    "porc_mortales = (cont_mortales/total_accidentes)*100\n",
    "porc_leves = (cont_leves/total_accidentes)*100\n",
    "porc_sin_lesiones = (cont_sin_lesiones/total_accidentes)*100\n",
    "\n",
    "print(f\"El numero de accidentes mortales es {cont_mortales} un {porc_mortales:.2f}% del total de accidentes\\n\")\n",
    "print(f\"El número de accidentes leves es {cont_leves} un {porc_leves:.2f}% del total de accidentes \\n\")\n",
    "print(f\"El número de accidentes sin lesiones es {cont_sin_lesiones} un {porc_sin_lesiones:.2f}% del total de accidentes\")\n"
   ]
  },
  {
   "cell_type": "markdown",
   "id": "3bc19e7d",
   "metadata": {},
   "source": [
    "Se extrae que la gran mayoría de accidentes han sido sin lesiones, una minoria leves y una gran minoria mortales."
   ]
  },
  {
   "cell_type": "markdown",
   "id": "3a90e723",
   "metadata": {},
   "source": [
    "# Limpieza y simplificación del Dataset"
   ]
  },
  {
   "cell_type": "markdown",
   "id": "369b2f13",
   "metadata": {},
   "source": [
    "A continuación se eliminan las columnas que no se consideran representativas para el estudio y posterior entrenameinto del modelo"
   ]
  },
  {
   "cell_type": "code",
   "execution_count": 17,
   "id": "e0fb1c51",
   "metadata": {},
   "outputs": [],
   "source": [
    "# Eliminar irrelevantes\n",
    "df = df.drop(['ID_ACCIDENTE','ZONA_AGRUPADA','ANYO','TITULARIDAD_VIA','TOT_PEAT_MU24H','TOT_BICI_MU24H','TOT_CICLO_MU24H', \n",
    "        'TOT_MOTO_MU24H', 'TOT_TUR_MU24H','TOT_FURG_MU24H','TOT_CAM_MENOS3500_MU24H','TOT_CAM_MAS3500_MU24H', 'TOT_BUS_MU24H',\n",
    "       'TOT_OTRO_MU24H','TOT_SINESPECIF_MU24H','TOT_BUS_MU30DF','TOT_SINESPECIF_MU30DF',\n",
    "       'NUDO_INFO','CARRETERA_CRUCE','CONDICION_NIEBLA','CONDICION_VIENTO','TOT_CAM_MENOS3500_MU30DF'], axis=1)\n"
   ]
  },
  {
   "cell_type": "markdown",
   "id": "7fc1a595",
   "metadata": {},
   "source": [
    "<font color=\"red\">No entiendo a que se refiere la última columna del dataset 'TRAZADDO_PLANTA' la eliminamos? </font>"
   ]
  },
  {
   "cell_type": "code",
   "execution_count": 18,
   "id": "1931c7d3",
   "metadata": {},
   "outputs": [
    {
     "name": "stdout",
     "output_type": "stream",
     "text": [
      "<class 'pandas.core.frame.DataFrame'>\n",
      "RangeIndex: 97916 entries, 0 to 97915\n",
      "Data columns (total 50 columns):\n",
      " #   Column                   Non-Null Count  Dtype  \n",
      "---  ------                   --------------  -----  \n",
      " 0   MES                      97916 non-null  int64  \n",
      " 1   DIA_SEMANA               97916 non-null  int64  \n",
      " 2   HORA                     97916 non-null  int64  \n",
      " 3   COD_PROVINCIA            97916 non-null  int64  \n",
      " 4   COD_MUNICIPIO            97916 non-null  int64  \n",
      " 5   ISLA                     5207 non-null   float64\n",
      " 6   ZONA                     97916 non-null  int64  \n",
      " 7   CARRETERA                97916 non-null  object \n",
      " 8   KM                       50944 non-null  float64\n",
      " 9   SENTIDO_1F               97916 non-null  int64  \n",
      " 10  TIPO_VIA                 97916 non-null  int64  \n",
      " 11  TIPO_ACCIDENTE           97916 non-null  int64  \n",
      " 12  TOTAL_HG24H              97916 non-null  int64  \n",
      " 13  TOTAL_HL24H              97916 non-null  int64  \n",
      " 14  TOTAL_MU30DF             97916 non-null  int64  \n",
      " 15  TOTAL_HG30DF             97916 non-null  int64  \n",
      " 16  TOTAL_HL30DF             97916 non-null  int64  \n",
      " 17  TOTAL_VICTIMAS_30DF      97916 non-null  int64  \n",
      " 18  TOTAL_VEHICULOS          97916 non-null  int64  \n",
      " 19  TOT_PEAT_MU30DF          97916 non-null  int64  \n",
      " 20  TOT_BICI_MU30DF          97916 non-null  int64  \n",
      " 21  TOT_CICLO_MU30DF         97916 non-null  int64  \n",
      " 22  TOT_MOTO_MU30DF          97916 non-null  int64  \n",
      " 23  TOT_TUR_MU30DF           97916 non-null  int64  \n",
      " 24  TOT_FURG_MU30DF          97916 non-null  int64  \n",
      " 25  TOT_CAM_MAS3500_MU30DF   97916 non-null  int64  \n",
      " 26  TOT_VMP_MU30DF           97916 non-null  int64  \n",
      " 27  TOT_OTRO_MU30DF          97916 non-null  int64  \n",
      " 28  NUDO                     97916 non-null  int64  \n",
      " 29  PRIORI_NORMA             97916 non-null  int64  \n",
      " 30  PRIORI_AGENTE            97916 non-null  int64  \n",
      " 31  PRIORI_SEMAFORO          97916 non-null  int64  \n",
      " 32  PRIORI_VERT_STOP         97916 non-null  int64  \n",
      " 33  PRIORI_VERT_CEDA         97916 non-null  int64  \n",
      " 34  PRIORI_HORIZ_STOP        97916 non-null  int64  \n",
      " 35  PRIORI_HORIZ_CEDA        97916 non-null  int64  \n",
      " 36  PRIORI_MARCAS            97916 non-null  int64  \n",
      " 37  PRIORI_PEA_NO_ELEV       97916 non-null  int64  \n",
      " 38  PRIORI_PEA_ELEV          97916 non-null  int64  \n",
      " 39  PRIORI_MARCA_CICLOS      97916 non-null  int64  \n",
      " 40  PRIORI_CIRCUNSTANCIAL    97916 non-null  int64  \n",
      " 41  PRIORI_OTRA              97916 non-null  int64  \n",
      " 42  CONDICION_NIVEL_CIRCULA  97916 non-null  int64  \n",
      " 43  CONDICION_FIRME          97916 non-null  int64  \n",
      " 44  CONDICION_ILUMINACION    97916 non-null  int64  \n",
      " 45  CONDICION_METEO          97916 non-null  int64  \n",
      " 46  VISIB_RESTRINGIDA_POR    97916 non-null  int64  \n",
      " 47  ACERA                    97916 non-null  int64  \n",
      " 48  TRAZADO_PLANTA           97916 non-null  int64  \n",
      " 49  TYP_ACC                  97916 non-null  object \n",
      "dtypes: float64(2), int64(46), object(2)\n",
      "memory usage: 37.4+ MB\n"
     ]
    }
   ],
   "source": [
    "df.info()"
   ]
  },
  {
   "cell_type": "markdown",
   "id": "84813efc",
   "metadata": {},
   "source": [
    "Parece que el dataset no tiene valores nulos excepto por la columna 'ISLA' que es normal porque la mayoría de accidentes ocurrieron en el territorio peninsular y en 'KM' que se trata de carreteras no inventariadas. No obstante esto no es cierto ya que en el dataset se utiliza 999 para indicar los valores faltantes, por eso parece que no hay nulos, vamos a eliminar estos valores para ver realmente como es nuestro Dataframe. También vamos a sustituir los valores nulos en 'ISLA' con 0 para indicar que no aplica."
   ]
  },
  {
   "cell_type": "code",
   "execution_count": 19,
   "id": "e362f416",
   "metadata": {},
   "outputs": [],
   "source": [
    "df['ISLA'] = df['ISLA'].fillna(0) #Rellenar columna ISLA\n",
    "\n",
    "#Gestionar nulos en columnas prioridad\n",
    "cols_prioridad = ['PRIORI_NORMA', 'PRIORI_AGENTE', 'PRIORI_SEMAFORO', 'PRIORI_VERT_STOP',\n",
    "                  'PRIORI_VERT_CEDA', 'PRIORI_HORIZ_STOP', 'PRIORI_HORIZ_CEDA', 'PRIORI_MARCAS',\n",
    "                  'PRIORI_PEA_NO_ELEV', 'PRIORI_PEA_ELEV', 'PRIORI_MARCA_CICLOS',\n",
    "                  'PRIORI_CIRCUNSTANCIAL', 'PRIORI_OTRA']\n",
    "\n",
    "df.loc[(df['PRIORI_NORMA'] == 999) & (df['NUDO'] == 1), cols_prioridad] = df.loc[(df['PRIORI_NORMA'] == 999) & (df['NUDO'] == 1), cols_prioridad].replace(999, np.nan)\n",
    "\n",
    "df[['ACERA', 'VISIB_RESTRINGIDA_POR']] = df[['ACERA', 'VISIB_RESTRINGIDA_POR']].replace([999, 18], np.nan)\n"
   ]
  },
  {
   "cell_type": "code",
   "execution_count": 20,
   "id": "4c3c7d9e",
   "metadata": {},
   "outputs": [],
   "source": [
    "#Gestionar columna 'KM' muchos valores nulos, valores 0, 999, 9999 que también significan nulo"
   ]
  },
  {
   "cell_type": "code",
   "execution_count": 20,
   "id": "5080ae33",
   "metadata": {},
   "outputs": [
    {
     "name": "stdout",
     "output_type": "stream",
     "text": [
      "<class 'pandas.core.frame.DataFrame'>\n",
      "RangeIndex: 97916 entries, 0 to 97915\n",
      "Data columns (total 16 columns):\n",
      " #   Column                 Non-Null Count  Dtype  \n",
      "---  ------                 --------------  -----  \n",
      " 0   ISLA                   97916 non-null  float64\n",
      " 1   PRIORI_NORMA           91150 non-null  float64\n",
      " 2   PRIORI_AGENTE          91150 non-null  float64\n",
      " 3   PRIORI_SEMAFORO        91150 non-null  float64\n",
      " 4   PRIORI_VERT_STOP       91150 non-null  float64\n",
      " 5   PRIORI_VERT_CEDA       91150 non-null  float64\n",
      " 6   PRIORI_HORIZ_STOP      91150 non-null  float64\n",
      " 7   PRIORI_HORIZ_CEDA      91150 non-null  float64\n",
      " 8   PRIORI_MARCAS          91150 non-null  float64\n",
      " 9   PRIORI_PEA_NO_ELEV     91150 non-null  float64\n",
      " 10  PRIORI_PEA_ELEV        91150 non-null  float64\n",
      " 11  PRIORI_MARCA_CICLOS    91150 non-null  float64\n",
      " 12  PRIORI_CIRCUNSTANCIAL  91150 non-null  float64\n",
      " 13  PRIORI_OTRA            91150 non-null  float64\n",
      " 14  ACERA                  94950 non-null  float64\n",
      " 15  VISIB_RESTRINGIDA_POR  70580 non-null  float64\n",
      "dtypes: float64(16)\n",
      "memory usage: 12.0 MB\n"
     ]
    }
   ],
   "source": [
    "#Comprobar el número de valores nulos en las columnas ajustadas\n",
    "df_subset_nulls = df[['ISLA'] + cols_prioridad + ['ACERA', 'VISIB_RESTRINGIDA_POR']]\n",
    "df_subset_nulls.info()"
   ]
  },
  {
   "cell_type": "markdown",
   "id": "f0388fbb",
   "metadata": {},
   "source": [
    "Aunque hay más nulos que antes, siguen siendo pocos teniendo en cuenta el tamaño del dataset, por lo que no eliminaremos ninguna columna por este criterio."
   ]
  },
  {
   "cell_type": "markdown",
   "id": "7bfb3dde",
   "metadata": {},
   "source": [
    "A continuación se combinan tipos de accidente "
   ]
  },
  {
   "cell_type": "code",
   "execution_count": 21,
   "id": "0ec08518",
   "metadata": {},
   "outputs": [],
   "source": [
    "def tipos_accidentes(column):\n",
    "    if (column['TIPO_ACCIDENTE'] > 0) & (column['TIPO_ACCIDENTE'] < 7):\n",
    "        return 'Colisión'\n",
    "    elif (column['TIPO_ACCIDENTE'] > 6) & (column['TIPO_ACCIDENTE'] < 9): \n",
    "        return 'Atropello'\n",
    "    elif (column['TIPO_ACCIDENTE'] >10) & (column['TIPO_ACCIDENTE'] < 20):\n",
    "        return 'Salida de vía'\n",
    "    else:\n",
    "        return 'Otro tipo de accidente'\n",
    "\n",
    "df['TIPO_ACCIDENTE'] = df.apply(tipos_accidentes, axis=1) \n"
   ]
  },
  {
   "cell_type": "code",
   "execution_count": 22,
   "id": "4544e702",
   "metadata": {},
   "outputs": [],
   "source": [
    "def condicion_firme(column):\n",
    "    if (column['CONDICION_FIRME'] > 0) & (column['CONDICION_FIRME'] < 2):\n",
    "        return 'Seco y limpio'\n",
    "    elif (column['CONDICION_FIRME'] > 1) & (column['CONDICION_FIRME'] < 3): \n",
    "        return 'Con barro o gravilla suelta'\n",
    "    elif (column['CONDICION_FIRME'] >2) & (column['CONDICION_FIRME'] < 5):\n",
    "        return 'Mojado'\n",
    "    elif (column['CONDICION_FIRME'] >4) & (column['CONDICION_FIRME'] < 8):\n",
    "        return 'Resbaladizo'\n",
    "    else:\n",
    "        return 'Se desconoce'\n",
    "\n",
    "df['CONDICION_FIRME'] = df.apply(condicion_firme, axis=1) "
   ]
  },
  {
   "cell_type": "markdown",
   "id": "fd7b04dd",
   "metadata": {},
   "source": [
    "Hay ciertas variables que aunque son categóricas como la provincia, el tipo de vía, el tipo de accidente, etc. Se encuentran en formato numérico, lo cual para entrenar el modelo será mejor pero para visualizar los datos puede ser muy confuso, por lo que vamos a crear diccionarios de todas ellas para ayudar visualizar los datos."
   ]
  },
  {
   "cell_type": "code",
   "execution_count": 23,
   "id": "0fc32db7",
   "metadata": {},
   "outputs": [
    {
     "ename": "FileNotFoundError",
     "evalue": "[Errno 2] No such file or directory: '../data/diccionario_municipio.xlsx'",
     "output_type": "error",
     "traceback": [
      "\u001b[31m---------------------------------------------------------------------------\u001b[39m",
      "\u001b[31mFileNotFoundError\u001b[39m                         Traceback (most recent call last)",
      "\u001b[36mCell\u001b[39m\u001b[36m \u001b[39m\u001b[32mIn[23]\u001b[39m\u001b[32m, line 14\u001b[39m\n\u001b[32m      5\u001b[39m cod_provincia = {\u001b[32m1\u001b[39m: \u001b[33m'\u001b[39m\u001b[33mÁlava\u001b[39m\u001b[33m'\u001b[39m, \u001b[32m2\u001b[39m: \u001b[33m'\u001b[39m\u001b[33mAlbacete\u001b[39m\u001b[33m'\u001b[39m, \u001b[32m3\u001b[39m: \u001b[33m'\u001b[39m\u001b[33mAlicante\u001b[39m\u001b[33m'\u001b[39m, \u001b[32m4\u001b[39m: \u001b[33m'\u001b[39m\u001b[33mAlmería\u001b[39m\u001b[33m'\u001b[39m, \u001b[32m5\u001b[39m: \u001b[33m'\u001b[39m\u001b[33mÁvila\u001b[39m\u001b[33m'\u001b[39m, \u001b[32m6\u001b[39m: \u001b[33m'\u001b[39m\u001b[33mBadajoz\u001b[39m\u001b[33m'\u001b[39m, \u001b[32m7\u001b[39m: \u001b[33m'\u001b[39m\u001b[33mIslas Baleares\u001b[39m\u001b[33m'\u001b[39m, \u001b[32m8\u001b[39m: \u001b[33m'\u001b[39m\u001b[33mBarcelona\u001b[39m\u001b[33m'\u001b[39m, \n\u001b[32m      6\u001b[39m                 \u001b[32m9\u001b[39m: \u001b[33m'\u001b[39m\u001b[33mBurgos\u001b[39m\u001b[33m'\u001b[39m, \u001b[32m10\u001b[39m: \u001b[33m'\u001b[39m\u001b[33mCáceres\u001b[39m\u001b[33m'\u001b[39m, \u001b[32m11\u001b[39m: \u001b[33m'\u001b[39m\u001b[33mCádiz\u001b[39m\u001b[33m'\u001b[39m, \u001b[32m12\u001b[39m: \u001b[33m'\u001b[39m\u001b[33mCastellón\u001b[39m\u001b[33m'\u001b[39m, \u001b[32m13\u001b[39m: \u001b[33m'\u001b[39m\u001b[33mCiudad Real\u001b[39m\u001b[33m'\u001b[39m, \u001b[32m14\u001b[39m: \u001b[33m'\u001b[39m\u001b[33mCórdoba\u001b[39m\u001b[33m'\u001b[39m, \u001b[32m15\u001b[39m: \u001b[33m'\u001b[39m\u001b[33mCoruña\u001b[39m\u001b[33m'\u001b[39m, \u001b[32m16\u001b[39m: \u001b[33m'\u001b[39m\u001b[33mCuenca\u001b[39m\u001b[33m'\u001b[39m, \n\u001b[32m      7\u001b[39m                 \u001b[32m17\u001b[39m: \u001b[33m'\u001b[39m\u001b[33mGirona\u001b[39m\u001b[33m'\u001b[39m, \u001b[32m18\u001b[39m: \u001b[33m'\u001b[39m\u001b[33mGranada\u001b[39m\u001b[33m'\u001b[39m, \u001b[32m19\u001b[39m: \u001b[33m'\u001b[39m\u001b[33mGuadalajara\u001b[39m\u001b[33m'\u001b[39m, \u001b[32m20\u001b[39m: \u001b[33m'\u001b[39m\u001b[33mGipuzkoa\u001b[39m\u001b[33m'\u001b[39m, \u001b[32m21\u001b[39m: \u001b[33m'\u001b[39m\u001b[33mHuelva\u001b[39m\u001b[33m'\u001b[39m, \u001b[32m22\u001b[39m: \u001b[33m'\u001b[39m\u001b[33mHuesca\u001b[39m\u001b[33m'\u001b[39m, \u001b[32m23\u001b[39m: \u001b[33m'\u001b[39m\u001b[33mJaén\u001b[39m\u001b[33m'\u001b[39m, \u001b[32m24\u001b[39m: \u001b[33m'\u001b[39m\u001b[33mLeón\u001b[39m\u001b[33m'\u001b[39m, \n\u001b[32m   (...)\u001b[39m\u001b[32m     10\u001b[39m                 \u001b[32m39\u001b[39m: \u001b[33m'\u001b[39m\u001b[33mCantabria\u001b[39m\u001b[33m'\u001b[39m, \u001b[32m40\u001b[39m: \u001b[33m'\u001b[39m\u001b[33mSegovia\u001b[39m\u001b[33m'\u001b[39m, \u001b[32m41\u001b[39m: \u001b[33m'\u001b[39m\u001b[33mSevilla\u001b[39m\u001b[33m'\u001b[39m, \u001b[32m42\u001b[39m: \u001b[33m'\u001b[39m\u001b[33mSoria\u001b[39m\u001b[33m'\u001b[39m, \u001b[32m43\u001b[39m: \u001b[33m'\u001b[39m\u001b[33mTarragona\u001b[39m\u001b[33m'\u001b[39m, \u001b[32m44\u001b[39m: \u001b[33m'\u001b[39m\u001b[33mTeruel\u001b[39m\u001b[33m'\u001b[39m, \u001b[32m45\u001b[39m: \u001b[33m'\u001b[39m\u001b[33mToledo\u001b[39m\u001b[33m'\u001b[39m, \u001b[32m46\u001b[39m: \u001b[33m'\u001b[39m\u001b[33mValencia\u001b[39m\u001b[33m'\u001b[39m, \n\u001b[32m     11\u001b[39m                 \u001b[32m47\u001b[39m: \u001b[33m'\u001b[39m\u001b[33mValladolid\u001b[39m\u001b[33m'\u001b[39m, \u001b[32m48\u001b[39m: \u001b[33m'\u001b[39m\u001b[33mBizkaia\u001b[39m\u001b[33m'\u001b[39m, \u001b[32m49\u001b[39m: \u001b[33m'\u001b[39m\u001b[33mZamora\u001b[39m\u001b[33m'\u001b[39m, \u001b[32m50\u001b[39m: \u001b[33m'\u001b[39m\u001b[33mZaragoza\u001b[39m\u001b[33m'\u001b[39m, \u001b[32m51\u001b[39m: \u001b[33m'\u001b[39m\u001b[33mCeuta\u001b[39m\u001b[33m'\u001b[39m, \u001b[32m52\u001b[39m: \u001b[33m'\u001b[39m\u001b[33mMelilla\u001b[39m\u001b[33m'\u001b[39m}\n\u001b[32m     13\u001b[39m \u001b[38;5;66;03m#Los códigos de municipios se encuentran en un excel por lo que primero hay que abrirlos y después crear el diccionario\u001b[39;00m\n\u001b[32m---> \u001b[39m\u001b[32m14\u001b[39m df_municipios = \u001b[43mpd\u001b[49m\u001b[43m.\u001b[49m\u001b[43mread_excel\u001b[49m\u001b[43m(\u001b[49m\u001b[33;43m'\u001b[39;49m\u001b[33;43m../data/diccionario_municipio.xlsx\u001b[39;49m\u001b[33;43m'\u001b[39;49m\u001b[43m,\u001b[49m\u001b[43m \u001b[49m\u001b[43mheader\u001b[49m\u001b[43m=\u001b[49m\u001b[32;43m0\u001b[39;49m\u001b[43m,\u001b[49m\u001b[43m \u001b[49m\u001b[43mconverters\u001b[49m\u001b[43m=\u001b[49m\u001b[43m \u001b[49m\u001b[43m{\u001b[49m\n\u001b[32m     15\u001b[39m \u001b[43m    \u001b[49m\u001b[33;43m'\u001b[39;49m\u001b[33;43mCOD\u001b[39;49m\u001b[33;43m'\u001b[39;49m\u001b[43m:\u001b[49m\u001b[43m \u001b[49m\u001b[38;5;28;43;01mlambda\u001b[39;49;00m\u001b[43m \u001b[49m\u001b[43mx\u001b[49m\u001b[43m:\u001b[49m\u001b[43m \u001b[49m\u001b[38;5;28;43mstr\u001b[39;49m\u001b[43m(\u001b[49m\u001b[43mx\u001b[49m\u001b[43m)\u001b[49m\u001b[43m \u001b[49m\u001b[38;5;66;43;03m#Convertir a texto para que no se eliminen los 0\u001b[39;49;00m\n\u001b[32m     16\u001b[39m \u001b[43m}\u001b[49m\u001b[43m)\u001b[49m\n\u001b[32m     17\u001b[39m cod_municipio = \u001b[38;5;28mdict\u001b[39m(\u001b[38;5;28mzip\u001b[39m(df_municipios[\u001b[33m'\u001b[39m\u001b[33mCOD\u001b[39m\u001b[33m'\u001b[39m], df_municipios[\u001b[33m'\u001b[39m\u001b[33mNOMBRE \u001b[39m\u001b[33m'\u001b[39m])) \u001b[38;5;66;03m#crear diccionario\u001b[39;00m\n",
      "\u001b[36mFile \u001b[39m\u001b[32m/workspaces/Proyecto_final_DS_Alex_Carlos/.venv/lib/python3.12/site-packages/pandas/io/excel/_base.py:495\u001b[39m, in \u001b[36mread_excel\u001b[39m\u001b[34m(io, sheet_name, header, names, index_col, usecols, dtype, engine, converters, true_values, false_values, skiprows, nrows, na_values, keep_default_na, na_filter, verbose, parse_dates, date_parser, date_format, thousands, decimal, comment, skipfooter, storage_options, dtype_backend, engine_kwargs)\u001b[39m\n\u001b[32m    493\u001b[39m \u001b[38;5;28;01mif\u001b[39;00m \u001b[38;5;129;01mnot\u001b[39;00m \u001b[38;5;28misinstance\u001b[39m(io, ExcelFile):\n\u001b[32m    494\u001b[39m     should_close = \u001b[38;5;28;01mTrue\u001b[39;00m\n\u001b[32m--> \u001b[39m\u001b[32m495\u001b[39m     io = \u001b[43mExcelFile\u001b[49m\u001b[43m(\u001b[49m\n\u001b[32m    496\u001b[39m \u001b[43m        \u001b[49m\u001b[43mio\u001b[49m\u001b[43m,\u001b[49m\n\u001b[32m    497\u001b[39m \u001b[43m        \u001b[49m\u001b[43mstorage_options\u001b[49m\u001b[43m=\u001b[49m\u001b[43mstorage_options\u001b[49m\u001b[43m,\u001b[49m\n\u001b[32m    498\u001b[39m \u001b[43m        \u001b[49m\u001b[43mengine\u001b[49m\u001b[43m=\u001b[49m\u001b[43mengine\u001b[49m\u001b[43m,\u001b[49m\n\u001b[32m    499\u001b[39m \u001b[43m        \u001b[49m\u001b[43mengine_kwargs\u001b[49m\u001b[43m=\u001b[49m\u001b[43mengine_kwargs\u001b[49m\u001b[43m,\u001b[49m\n\u001b[32m    500\u001b[39m \u001b[43m    \u001b[49m\u001b[43m)\u001b[49m\n\u001b[32m    501\u001b[39m \u001b[38;5;28;01melif\u001b[39;00m engine \u001b[38;5;129;01mand\u001b[39;00m engine != io.engine:\n\u001b[32m    502\u001b[39m     \u001b[38;5;28;01mraise\u001b[39;00m \u001b[38;5;167;01mValueError\u001b[39;00m(\n\u001b[32m    503\u001b[39m         \u001b[33m\"\u001b[39m\u001b[33mEngine should not be specified when passing \u001b[39m\u001b[33m\"\u001b[39m\n\u001b[32m    504\u001b[39m         \u001b[33m\"\u001b[39m\u001b[33man ExcelFile - ExcelFile already has the engine set\u001b[39m\u001b[33m\"\u001b[39m\n\u001b[32m    505\u001b[39m     )\n",
      "\u001b[36mFile \u001b[39m\u001b[32m/workspaces/Proyecto_final_DS_Alex_Carlos/.venv/lib/python3.12/site-packages/pandas/io/excel/_base.py:1550\u001b[39m, in \u001b[36mExcelFile.__init__\u001b[39m\u001b[34m(self, path_or_buffer, engine, storage_options, engine_kwargs)\u001b[39m\n\u001b[32m   1548\u001b[39m     ext = \u001b[33m\"\u001b[39m\u001b[33mxls\u001b[39m\u001b[33m\"\u001b[39m\n\u001b[32m   1549\u001b[39m \u001b[38;5;28;01melse\u001b[39;00m:\n\u001b[32m-> \u001b[39m\u001b[32m1550\u001b[39m     ext = \u001b[43minspect_excel_format\u001b[49m\u001b[43m(\u001b[49m\n\u001b[32m   1551\u001b[39m \u001b[43m        \u001b[49m\u001b[43mcontent_or_path\u001b[49m\u001b[43m=\u001b[49m\u001b[43mpath_or_buffer\u001b[49m\u001b[43m,\u001b[49m\u001b[43m \u001b[49m\u001b[43mstorage_options\u001b[49m\u001b[43m=\u001b[49m\u001b[43mstorage_options\u001b[49m\n\u001b[32m   1552\u001b[39m \u001b[43m    \u001b[49m\u001b[43m)\u001b[49m\n\u001b[32m   1553\u001b[39m     \u001b[38;5;28;01mif\u001b[39;00m ext \u001b[38;5;129;01mis\u001b[39;00m \u001b[38;5;28;01mNone\u001b[39;00m:\n\u001b[32m   1554\u001b[39m         \u001b[38;5;28;01mraise\u001b[39;00m \u001b[38;5;167;01mValueError\u001b[39;00m(\n\u001b[32m   1555\u001b[39m             \u001b[33m\"\u001b[39m\u001b[33mExcel file format cannot be determined, you must specify \u001b[39m\u001b[33m\"\u001b[39m\n\u001b[32m   1556\u001b[39m             \u001b[33m\"\u001b[39m\u001b[33man engine manually.\u001b[39m\u001b[33m\"\u001b[39m\n\u001b[32m   1557\u001b[39m         )\n",
      "\u001b[36mFile \u001b[39m\u001b[32m/workspaces/Proyecto_final_DS_Alex_Carlos/.venv/lib/python3.12/site-packages/pandas/io/excel/_base.py:1402\u001b[39m, in \u001b[36minspect_excel_format\u001b[39m\u001b[34m(content_or_path, storage_options)\u001b[39m\n\u001b[32m   1399\u001b[39m \u001b[38;5;28;01mif\u001b[39;00m \u001b[38;5;28misinstance\u001b[39m(content_or_path, \u001b[38;5;28mbytes\u001b[39m):\n\u001b[32m   1400\u001b[39m     content_or_path = BytesIO(content_or_path)\n\u001b[32m-> \u001b[39m\u001b[32m1402\u001b[39m \u001b[38;5;28;01mwith\u001b[39;00m \u001b[43mget_handle\u001b[49m\u001b[43m(\u001b[49m\n\u001b[32m   1403\u001b[39m \u001b[43m    \u001b[49m\u001b[43mcontent_or_path\u001b[49m\u001b[43m,\u001b[49m\u001b[43m \u001b[49m\u001b[33;43m\"\u001b[39;49m\u001b[33;43mrb\u001b[39;49m\u001b[33;43m\"\u001b[39;49m\u001b[43m,\u001b[49m\u001b[43m \u001b[49m\u001b[43mstorage_options\u001b[49m\u001b[43m=\u001b[49m\u001b[43mstorage_options\u001b[49m\u001b[43m,\u001b[49m\u001b[43m \u001b[49m\u001b[43mis_text\u001b[49m\u001b[43m=\u001b[49m\u001b[38;5;28;43;01mFalse\u001b[39;49;00m\n\u001b[32m   1404\u001b[39m \u001b[43m\u001b[49m\u001b[43m)\u001b[49m \u001b[38;5;28;01mas\u001b[39;00m handle:\n\u001b[32m   1405\u001b[39m     stream = handle.handle\n\u001b[32m   1406\u001b[39m     stream.seek(\u001b[32m0\u001b[39m)\n",
      "\u001b[36mFile \u001b[39m\u001b[32m/workspaces/Proyecto_final_DS_Alex_Carlos/.venv/lib/python3.12/site-packages/pandas/io/common.py:882\u001b[39m, in \u001b[36mget_handle\u001b[39m\u001b[34m(path_or_buf, mode, encoding, compression, memory_map, is_text, errors, storage_options)\u001b[39m\n\u001b[32m    873\u001b[39m         handle = \u001b[38;5;28mopen\u001b[39m(\n\u001b[32m    874\u001b[39m             handle,\n\u001b[32m    875\u001b[39m             ioargs.mode,\n\u001b[32m   (...)\u001b[39m\u001b[32m    878\u001b[39m             newline=\u001b[33m\"\u001b[39m\u001b[33m\"\u001b[39m,\n\u001b[32m    879\u001b[39m         )\n\u001b[32m    880\u001b[39m     \u001b[38;5;28;01melse\u001b[39;00m:\n\u001b[32m    881\u001b[39m         \u001b[38;5;66;03m# Binary mode\u001b[39;00m\n\u001b[32m--> \u001b[39m\u001b[32m882\u001b[39m         handle = \u001b[38;5;28;43mopen\u001b[39;49m\u001b[43m(\u001b[49m\u001b[43mhandle\u001b[49m\u001b[43m,\u001b[49m\u001b[43m \u001b[49m\u001b[43mioargs\u001b[49m\u001b[43m.\u001b[49m\u001b[43mmode\u001b[49m\u001b[43m)\u001b[49m\n\u001b[32m    883\u001b[39m     handles.append(handle)\n\u001b[32m    885\u001b[39m \u001b[38;5;66;03m# Convert BytesIO or file objects passed with an encoding\u001b[39;00m\n",
      "\u001b[31mFileNotFoundError\u001b[39m: [Errno 2] No such file or directory: '../data/diccionario_municipio.xlsx'"
     ]
    }
   ],
   "source": [
    "#Diccionarios\n",
    "\n",
    "dia_semana = {1:'Lunes', 2:'Martes', 3:'Miercoles', 4:'Jueves', 5:'Viernes', 6:'Sábado', 7:'Domingo'}\n",
    "\n",
    "cod_provincia = {1: 'Álava', 2: 'Albacete', 3: 'Alicante', 4: 'Almería', 5: 'Ávila', 6: 'Badajoz', 7: 'Islas Baleares', 8: 'Barcelona', \n",
    "                9: 'Burgos', 10: 'Cáceres', 11: 'Cádiz', 12: 'Castellón', 13: 'Ciudad Real', 14: 'Córdoba', 15: 'Coruña', 16: 'Cuenca', \n",
    "                17: 'Girona', 18: 'Granada', 19: 'Guadalajara', 20: 'Gipuzkoa', 21: 'Huelva', 22: 'Huesca', 23: 'Jaén', 24: 'León', \n",
    "                25: 'Lleida', 26: 'Rioja, La', 27: 'Lugo', 28: 'Madrid', 29: 'Málaga', 30: 'Murcia', 31: 'Navarra', 32: 'Ourense', \n",
    "                33: 'Asturias', 34: 'Palencia', 35: 'Las Palmas', 36: 'Pontevedra', 37: 'Salamanca', 38: 'Santa Cruz de Tenerife', \n",
    "                39: 'Cantabria', 40: 'Segovia', 41: 'Sevilla', 42: 'Soria', 43: 'Tarragona', 44: 'Teruel', 45: 'Toledo', 46: 'Valencia', \n",
    "                47: 'Valladolid', 48: 'Bizkaia', 49: 'Zamora', 50: 'Zaragoza', 51: 'Ceuta', 52: 'Melilla'}\n",
    "\n",
    "#Los códigos de municipios se encuentran en un excel por lo que primero hay que abrirlos y después crear el diccionario\n",
    "df_municipios = pd.read_excel('../data/diccionario_municipio.xlsx', header=0, converters= {\n",
    "    'COD': lambda x: str(x) #Convertir a texto para que no se eliminen los 0\n",
    "})\n",
    "cod_municipio = dict(zip(df_municipios['COD'], df_municipios['NOMBRE '])) #crear diccionario"
   ]
  },
  {
   "cell_type": "code",
   "execution_count": null,
   "id": "d3e3fc7c",
   "metadata": {},
   "outputs": [],
   "source": [
    "# https://www.ine.es/dyngs/INEbase/es/operacion.htm?c=Estadistica_C&cid=1254736177031&menu=ultiDatos&idp=1254734710990 codigos municipio"
   ]
  },
  {
   "cell_type": "code",
   "execution_count": 24,
   "id": "e2598351",
   "metadata": {},
   "outputs": [
    {
     "data": {
      "text/plain": [
       "Index(['MES', 'DIA_SEMANA', 'HORA', 'COD_PROVINCIA', 'COD_MUNICIPIO', 'ISLA',\n",
       "       'ZONA', 'CARRETERA', 'KM', 'SENTIDO_1F', 'TIPO_VIA', 'TIPO_ACCIDENTE',\n",
       "       'TOTAL_HG24H', 'TOTAL_HL24H', 'TOTAL_MU30DF', 'TOTAL_HG30DF',\n",
       "       'TOTAL_HL30DF', 'TOTAL_VICTIMAS_30DF', 'TOTAL_VEHICULOS',\n",
       "       'TOT_PEAT_MU30DF', 'TOT_BICI_MU30DF', 'TOT_CICLO_MU30DF',\n",
       "       'TOT_MOTO_MU30DF', 'TOT_TUR_MU30DF', 'TOT_FURG_MU30DF',\n",
       "       'TOT_CAM_MAS3500_MU30DF', 'TOT_VMP_MU30DF', 'TOT_OTRO_MU30DF', 'NUDO',\n",
       "       'PRIORI_NORMA', 'PRIORI_AGENTE', 'PRIORI_SEMAFORO', 'PRIORI_VERT_STOP',\n",
       "       'PRIORI_VERT_CEDA', 'PRIORI_HORIZ_STOP', 'PRIORI_HORIZ_CEDA',\n",
       "       'PRIORI_MARCAS', 'PRIORI_PEA_NO_ELEV', 'PRIORI_PEA_ELEV',\n",
       "       'PRIORI_MARCA_CICLOS', 'PRIORI_CIRCUNSTANCIAL', 'PRIORI_OTRA',\n",
       "       'CONDICION_NIVEL_CIRCULA', 'CONDICION_FIRME', 'CONDICION_ILUMINACION',\n",
       "       'CONDICION_METEO', 'VISIB_RESTRINGIDA_POR', 'ACERA', 'TRAZADO_PLANTA',\n",
       "       'TYP_ACC'],\n",
       "      dtype='object')"
      ]
     },
     "execution_count": 24,
     "metadata": {},
     "output_type": "execute_result"
    }
   ],
   "source": [
    "df.columns"
   ]
  },
  {
   "cell_type": "markdown",
   "id": "dbce09b9",
   "metadata": {},
   "source": [
    "# Ideas: \n"
   ]
  },
  {
   "cell_type": "markdown",
   "id": "c40a211e",
   "metadata": {},
   "source": [
    "<font color=\"red\">Para poner mensajes en rojo </font>\n",
    "\n",
    "<font color=\"red\">Relación entre el tipo de accidente y la visibilidad del trazado </font>\n",
    "\n",
    "<font color=\"red\">Tipo de accidente y provincia </font>\n"
   ]
  }
 ],
 "metadata": {
  "kernelspec": {
   "display_name": ".venv",
   "language": "python",
   "name": "python3"
  },
  "language_info": {
   "codemirror_mode": {
    "name": "ipython",
    "version": 3
   },
   "file_extension": ".py",
   "mimetype": "text/x-python",
   "name": "python",
   "nbconvert_exporter": "python",
   "pygments_lexer": "ipython3",
   "version": "3.12.1"
  }
 },
 "nbformat": 4,
 "nbformat_minor": 5
}
